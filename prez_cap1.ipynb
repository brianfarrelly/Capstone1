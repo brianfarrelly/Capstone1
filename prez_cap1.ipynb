{
 "cells": [
  {
   "cell_type": "markdown",
   "metadata": {
    "colab_type": "text",
    "id": "99Jmz2FFaYOi",
    "slideshow": {
     "slide_type": "slide"
    }
   },
   "source": [
    "## **Breast Cancer Wisconsin (Diagnostic) Data Set**\n",
    "## **Predict whether the FNA (needle biopsy) sample is benign or malignant**"
   ]
  },
  {
   "cell_type": "markdown",
   "metadata": {
    "slideshow": {
     "slide_type": "slide"
    }
   },
   "source": [
    "<img src=\"https://www.cancer.org/cancer/breast-cancer/screening-tests-and-early-detection/breast-biopsy/core-needle-biopsy-of-the-breast/_jcr_content/par/image.img.gif/1570716400778.gif\">"
   ]
  },
  {
   "cell_type": "markdown",
   "metadata": {
    "colab_type": "text",
    "id": "RZtYUnBbZyDy",
    "slideshow": {
     "slide_type": "slide"
    }
   },
   "source": [
    "<h2 align=\"center\">Benign VS Malignant FNA</h2> <img src=\"https://raw.githubusercontent.com/brianfarrelly/data/master/SMEAR.png\">\n",
    "\n"
   ]
  },
  {
   "cell_type": "markdown",
   "metadata": {
    "colab_type": "text",
    "id": "w5WFnpQ0qAp0",
    "slideshow": {
     "slide_type": "slide"
    }
   },
   "source": [
    "“Down to their innate molecular core, cancer cells are hyperactive, survival-endowed, scrappy, fecund, inventive copies of ourselves.”\n",
    "― Siddhartha Mukherjee, The Emperor of All Maladies: A Biography of Cancer\n"
   ]
  },
  {
   "cell_type": "markdown",
   "metadata": {
    "colab_type": "text",
    "id": "rz8jkSqBp8uz",
    "slideshow": {
     "slide_type": "slide"
    }
   },
   "source": [
    "“In God we trust. All others [must] have data. - Bernard Fisher”\n",
    "― Siddhartha Mukherjee, The Emperor of All Maladies: A Biography of Cancer "
   ]
  },
  {
   "cell_type": "markdown",
   "metadata": {
    "colab_type": "text",
    "id": "phrL8SpoGU1_",
    "slideshow": {
     "slide_type": "slide"
    }
   },
   "source": [
    "The dataset I selected for this project is from Kaggle. It is highly rated on Kaggle and has been there for 3 years. \n",
    "\n",
    "https://www.kaggle.com/uciml/breast-cancer-wisconsin-data\n"
   ]
  },
  {
   "cell_type": "markdown",
   "metadata": {
    "colab_type": "text",
    "id": "aRsFcW-SHJ4q",
    "slideshow": {
     "slide_type": "skip"
    }
   },
   "source": [
    "The p-values being returned are extremely LOW. I have some concern about the data set being too small.  Medical testing by it's nature typically deals with smaller samples.\n"
   ]
  },
  {
   "cell_type": "markdown",
   "metadata": {
    "slideshow": {
     "slide_type": "skip"
    }
   },
   "source": [
    "The skewness and kurtosis of the histograms are a bit \n",
    "high but I believe they are in range for a t-test. \n",
    "I believe all the variables are continuous and can \n",
    "be t-tested."
   ]
  },
  {
   "cell_type": "markdown",
   "metadata": {
    "colab_type": "text",
    "id": "qngYaSI1bFHp",
    "slideshow": {
     "slide_type": "skip"
    }
   },
   "source": [
    "This file is posted here and on google colab.\n",
    "\n",
    "https://github.com/brianfarrelly/data/blob/master/report_cap1.ipynb\n"
   ]
  },
  {
   "cell_type": "code",
   "execution_count": 1,
   "metadata": {
    "colab": {},
    "colab_type": "code",
    "id": "C-0K70KYo3eb",
    "slideshow": {
     "slide_type": "skip"
    }
   },
   "outputs": [],
   "source": [
    "%matplotlib inline\n",
    "import math\n",
    "import pandas as pd\n",
    "import numpy as np\n",
    "import seaborn as sns\n",
    "import matplotlib.pyplot as plt\n",
    "from scipy import stats\n",
    "\n",
    "from IPython.core.interactiveshell import InteractiveShell\n",
    "InteractiveShell.ast_node_interactivity = \"all\""
   ]
  },
  {
   "cell_type": "code",
   "execution_count": 104,
   "metadata": {
    "slideshow": {
     "slide_type": "skip"
    }
   },
   "outputs": [
    {
     "data": {
      "text/html": [
       "<script>\n",
       "code_show=true; \n",
       "function code_toggle() {\n",
       "if (code_show){\n",
       "$('div.input').hide();\n",
       "} else {\n",
       "$('div.input').show();\n",
       "}\n",
       "code_show = !code_show\n",
       "} \n",
       "$( document ).ready(code_toggle);\n",
       "</script>\n",
       "The raw code for this IPython notebook is by default hidden for easier reading.\n",
       "To toggle on/off the raw code, click <a href=\"javascript:code_toggle()\">here</a>."
      ],
      "text/plain": [
       "<IPython.core.display.HTML object>"
      ]
     },
     "execution_count": 104,
     "metadata": {},
     "output_type": "execute_result"
    }
   ],
   "source": [
    "# Source:\n",
    "# http://blog.nextgenetics.net/?e=102\n",
    "from IPython.display import HTML\n",
    "\n",
    "HTML('''<script>\n",
    "code_show=true; \n",
    "function code_toggle() {\n",
    "if (code_show){\n",
    "$('div.input').hide();\n",
    "} else {\n",
    "$('div.input').show();\n",
    "}\n",
    "code_show = !code_show\n",
    "} \n",
    "$( document ).ready(code_toggle);\n",
    "</script>\n",
    "The raw code for this IPython notebook is by default hidden for easier reading.\n",
    "To toggle on/off the raw code, click <a href=\"javascript:code_toggle()\">here</a>.''')"
   ]
  },
  {
   "cell_type": "markdown",
   "metadata": {
    "colab_type": "text",
    "id": "NQvRCNppDuxl",
    "slideshow": {
     "slide_type": "slide"
    }
   },
   "source": [
    "The dataset has 569 rows and 4 columns. The data will be divided in 2 on the diagnosis variable - M for malignant and B for benign."
   ]
  },
  {
   "cell_type": "code",
   "execution_count": 3,
   "metadata": {
    "colab": {},
    "colab_type": "code",
    "id": "FFNMvvX0o3ek",
    "slideshow": {
     "slide_type": "skip"
    }
   },
   "outputs": [],
   "source": [
    "PATH = 'https://raw.githubusercontent.com/brianfarrelly/data/master/breast_cancer_WI.csv'\n",
    "df = pd.read_csv(PATH)"
   ]
  },
  {
   "cell_type": "code",
   "execution_count": 4,
   "metadata": {
    "colab": {
     "base_uri": "https://localhost:8080/",
     "height": 184
    },
    "colab_type": "code",
    "id": "zdogzzivnKPF",
    "outputId": "09165578-2c9f-47f0-d37b-dd120bef03c3",
    "slideshow": {
     "slide_type": "skip"
    }
   },
   "outputs": [
    {
     "name": "stdout",
     "output_type": "stream",
     "text": [
      "<class 'pandas.core.frame.DataFrame'>\n",
      "RangeIndex: 569 entries, 0 to 568\n",
      "Data columns (total 4 columns):\n",
      "diagnosis         569 non-null object\n",
      "radius_mean       569 non-null float64\n",
      "texture_mean      569 non-null float64\n",
      "perimeter_mean    569 non-null float64\n",
      "dtypes: float64(3), object(1)\n",
      "memory usage: 17.9+ KB\n"
     ]
    }
   ],
   "source": [
    "bcdata = df[['diagnosis', 'radius_mean', 'texture_mean', 'perimeter_mean']]\n",
    "bcdata.info()"
   ]
  },
  {
   "cell_type": "markdown",
   "metadata": {
    "colab_type": "text",
    "id": "RKPBfKYNDhAR",
    "slideshow": {
     "slide_type": "slide"
    }
   },
   "source": [
    "I have 3 hypotheses. The means of radius_mean, texture_mean and perimeter_mean in the Malignant samples are significantly different than the means in the Benign samples.  "
   ]
  },
  {
   "cell_type": "code",
   "execution_count": 5,
   "metadata": {
    "colab": {
     "base_uri": "https://localhost:8080/",
     "height": 206
    },
    "colab_type": "code",
    "id": "axV51V1tiRQZ",
    "outputId": "05e26416-1685-4d33-fd17-5eeff00c59c9",
    "slideshow": {
     "slide_type": "-"
    }
   },
   "outputs": [
    {
     "data": {
      "text/html": [
       "<div>\n",
       "<style scoped>\n",
       "    .dataframe tbody tr th:only-of-type {\n",
       "        vertical-align: middle;\n",
       "    }\n",
       "\n",
       "    .dataframe tbody tr th {\n",
       "        vertical-align: top;\n",
       "    }\n",
       "\n",
       "    .dataframe thead th {\n",
       "        text-align: right;\n",
       "    }\n",
       "</style>\n",
       "<table border=\"1\" class=\"dataframe\">\n",
       "  <thead>\n",
       "    <tr style=\"text-align: right;\">\n",
       "      <th></th>\n",
       "      <th>diagnosis</th>\n",
       "      <th>radius_mean</th>\n",
       "      <th>texture_mean</th>\n",
       "      <th>perimeter_mean</th>\n",
       "    </tr>\n",
       "  </thead>\n",
       "  <tbody>\n",
       "    <tr>\n",
       "      <td>0</td>\n",
       "      <td>M</td>\n",
       "      <td>17.99</td>\n",
       "      <td>10.38</td>\n",
       "      <td>122.80</td>\n",
       "    </tr>\n",
       "    <tr>\n",
       "      <td>1</td>\n",
       "      <td>M</td>\n",
       "      <td>20.57</td>\n",
       "      <td>17.77</td>\n",
       "      <td>132.90</td>\n",
       "    </tr>\n",
       "    <tr>\n",
       "      <td>2</td>\n",
       "      <td>M</td>\n",
       "      <td>19.69</td>\n",
       "      <td>21.25</td>\n",
       "      <td>130.00</td>\n",
       "    </tr>\n",
       "    <tr>\n",
       "      <td>3</td>\n",
       "      <td>M</td>\n",
       "      <td>11.42</td>\n",
       "      <td>20.38</td>\n",
       "      <td>77.58</td>\n",
       "    </tr>\n",
       "    <tr>\n",
       "      <td>4</td>\n",
       "      <td>M</td>\n",
       "      <td>20.29</td>\n",
       "      <td>14.34</td>\n",
       "      <td>135.10</td>\n",
       "    </tr>\n",
       "  </tbody>\n",
       "</table>\n",
       "</div>"
      ],
      "text/plain": [
       "  diagnosis  radius_mean  texture_mean  perimeter_mean\n",
       "0         M        17.99         10.38          122.80\n",
       "1         M        20.57         17.77          132.90\n",
       "2         M        19.69         21.25          130.00\n",
       "3         M        11.42         20.38           77.58\n",
       "4         M        20.29         14.34          135.10"
      ]
     },
     "execution_count": 5,
     "metadata": {},
     "output_type": "execute_result"
    }
   ],
   "source": [
    "bcdata.head()"
   ]
  },
  {
   "cell_type": "markdown",
   "metadata": {
    "slideshow": {
     "slide_type": "slide"
    }
   },
   "source": [
    "<img src=\"https://www.epa.gov/sites/production/files/2016-09/pm2.5_scale_graphic-color_2.jpg\">"
   ]
  },
  {
   "cell_type": "markdown",
   "metadata": {
    "slideshow": {
     "slide_type": "slide"
    }
   },
   "source": [
    "<img src=\"https://www.filtersplus.co/wp-content/uploads/2015/01/Particle-Size.jpg\">    "
   ]
  },
  {
   "cell_type": "markdown",
   "metadata": {},
   "source": [
    "<h2 align=\"center\">texture_mean is the standard deviation of grayscale values</h2> <img src=\"https://usercontent2.hubstatic.com/9270515.jpg\">"
   ]
  },
  {
   "cell_type": "markdown",
   "metadata": {
    "colab_type": "text",
    "id": "72V_gmEcE1rc",
    "slideshow": {
     "slide_type": "slide"
    }
   },
   "source": [
    "Below I just check for Null values for any of the columns I am using for this data analysis. The entire dataset has no null values for named columns. So there will be no cleaning of the data for Nulls for this data."
   ]
  },
  {
   "cell_type": "code",
   "execution_count": 6,
   "metadata": {
    "colab": {
     "base_uri": "https://localhost:8080/",
     "height": 36
    },
    "colab_type": "code",
    "id": "kEBkPMQKDlhd",
    "outputId": "65f23331-d024-4243-b7d9-68d416fa4f34",
    "slideshow": {
     "slide_type": "skip"
    }
   },
   "outputs": [
    {
     "data": {
      "text/plain": [
       "0"
      ]
     },
     "execution_count": 6,
     "metadata": {},
     "output_type": "execute_result"
    }
   ],
   "source": [
    "bcdata.diagnosis.isnull().sum()"
   ]
  },
  {
   "cell_type": "code",
   "execution_count": 7,
   "metadata": {
    "colab": {
     "base_uri": "https://localhost:8080/",
     "height": 36
    },
    "colab_type": "code",
    "id": "igyh28yHidAE",
    "outputId": "22eedd89-23c7-447d-d19d-0506ce0e21ce",
    "slideshow": {
     "slide_type": "skip"
    }
   },
   "outputs": [
    {
     "data": {
      "text/plain": [
       "0"
      ]
     },
     "execution_count": 7,
     "metadata": {},
     "output_type": "execute_result"
    }
   ],
   "source": [
    "bcdata.radius_mean.isnull().sum()"
   ]
  },
  {
   "cell_type": "code",
   "execution_count": 8,
   "metadata": {
    "colab": {
     "base_uri": "https://localhost:8080/",
     "height": 36
    },
    "colab_type": "code",
    "id": "rFipKFdUij26",
    "outputId": "8b01e966-23c9-4684-c655-79c29fac625c",
    "slideshow": {
     "slide_type": "skip"
    }
   },
   "outputs": [
    {
     "data": {
      "text/plain": [
       "0"
      ]
     },
     "execution_count": 8,
     "metadata": {},
     "output_type": "execute_result"
    }
   ],
   "source": [
    "bcdata.texture_mean.isnull().sum()"
   ]
  },
  {
   "cell_type": "code",
   "execution_count": 9,
   "metadata": {
    "colab": {
     "base_uri": "https://localhost:8080/",
     "height": 36
    },
    "colab_type": "code",
    "id": "q71sB5dLix-F",
    "outputId": "3c85f6f0-ffae-4dfc-f101-f8cb08acbc25",
    "slideshow": {
     "slide_type": "skip"
    }
   },
   "outputs": [
    {
     "data": {
      "text/plain": [
       "0"
      ]
     },
     "execution_count": 9,
     "metadata": {},
     "output_type": "execute_result"
    }
   ],
   "source": [
    "bcdata.perimeter_mean.isnull().sum()"
   ]
  },
  {
   "cell_type": "markdown",
   "metadata": {
    "colab_type": "text",
    "id": "6IA1LGhTFUTt",
    "slideshow": {
     "slide_type": "skip"
    }
   },
   "source": [
    "Again confirm there are 569 rows of data."
   ]
  },
  {
   "cell_type": "code",
   "execution_count": 10,
   "metadata": {
    "colab": {
     "base_uri": "https://localhost:8080/",
     "height": 36
    },
    "colab_type": "code",
    "id": "ELYHkn_Bo3e0",
    "outputId": "44dc33a5-189b-489d-d0f2-c9456807d8d9",
    "slideshow": {
     "slide_type": "skip"
    }
   },
   "outputs": [
    {
     "data": {
      "text/plain": [
       "569"
      ]
     },
     "execution_count": 10,
     "metadata": {},
     "output_type": "execute_result"
    }
   ],
   "source": [
    "len(bcdata)"
   ]
  },
  {
   "cell_type": "markdown",
   "metadata": {
    "colab_type": "text",
    "id": "kyFZCeiLFaCG",
    "slideshow": {
     "slide_type": "skip"
    }
   },
   "source": [
    "Below check that the diagnosis column has 2 unique values and that they are 'M' and 'B'."
   ]
  },
  {
   "cell_type": "code",
   "execution_count": 11,
   "metadata": {
    "colab": {
     "base_uri": "https://localhost:8080/",
     "height": 36
    },
    "colab_type": "code",
    "id": "yo_QiW1OjKdh",
    "outputId": "678274c9-af93-4843-c48f-e2aab6c8ed20",
    "slideshow": {
     "slide_type": "skip"
    }
   },
   "outputs": [
    {
     "data": {
      "text/plain": [
       "2"
      ]
     },
     "execution_count": 11,
     "metadata": {},
     "output_type": "execute_result"
    }
   ],
   "source": [
    "bcdata.diagnosis.nunique()"
   ]
  },
  {
   "cell_type": "code",
   "execution_count": 12,
   "metadata": {
    "colab": {
     "base_uri": "https://localhost:8080/",
     "height": 36
    },
    "colab_type": "code",
    "id": "aSadFGoNjCYX",
    "outputId": "009dec1a-efa4-47e3-b857-e2b0fd0f3d2b",
    "slideshow": {
     "slide_type": "skip"
    }
   },
   "outputs": [
    {
     "data": {
      "text/plain": [
       "array(['M', 'B'], dtype=object)"
      ]
     },
     "execution_count": 12,
     "metadata": {},
     "output_type": "execute_result"
    }
   ],
   "source": [
    "bcdata.diagnosis.unique()"
   ]
  },
  {
   "cell_type": "markdown",
   "metadata": {
    "colab_type": "text",
    "id": "jVq7NMNLvmKr",
    "slideshow": {
     "slide_type": "slide"
    }
   },
   "source": [
    "This scatter plot shows how clearly defined the boundary between malignant and benign is between smaller and larger cell samples."
   ]
  },
  {
   "cell_type": "code",
   "execution_count": 13,
   "metadata": {
    "colab": {
     "base_uri": "https://localhost:8080/",
     "height": 299
    },
    "colab_type": "code",
    "id": "VfCYaFR6rz38",
    "outputId": "28a8c239-7e4f-46ea-f9f2-293fb72d0ebf",
    "scrolled": true,
    "slideshow": {
     "slide_type": "-"
    }
   },
   "outputs": [
    {
     "data": {
      "image/png": "[encoded data removed]",
      "text/plain": [
       "<Figure size 432x288 with 1 Axes>"
      ]
     },
     "metadata": {
      "needs_background": "light"
     },
     "output_type": "display_data"
    }
   ],
   "source": [
    "scatter = sns.scatterplot(bcdata['radius_mean'], bcdata['perimeter_mean'], \n",
    "                hue=bcdata['diagnosis'], \n",
    "                palette=['orange', 'dodgerblue'])"
   ]
  },
  {
   "cell_type": "code",
   "execution_count": 14,
   "metadata": {
    "colab": {
     "base_uri": "https://localhost:8080/",
     "height": 36
    },
    "colab_type": "code",
    "id": "RwxM5JfUs775",
    "outputId": "a455491a-8087-4d2e-8ea9-2ec59b0d69db",
    "slideshow": {
     "slide_type": "skip"
    }
   },
   "outputs": [
    {
     "data": {
      "text/plain": [
       "(0.997855281493811, 0.0)"
      ]
     },
     "execution_count": 14,
     "metadata": {},
     "output_type": "execute_result"
    }
   ],
   "source": [
    "stats.pearsonr(bcdata['radius_mean'], bcdata['perimeter_mean'] )"
   ]
  },
  {
   "cell_type": "markdown",
   "metadata": {
    "colab_type": "text",
    "id": "48q4VYWjwokx",
    "slideshow": {
     "slide_type": "skip"
    }
   },
   "source": [
    "It seems the size of a sample of cells is not highly correlated to it's texture.\n"
   ]
  },
  {
   "cell_type": "code",
   "execution_count": 15,
   "metadata": {
    "colab": {
     "base_uri": "https://localhost:8080/",
     "height": 36
    },
    "colab_type": "code",
    "id": "Z9rCgOS3uUi9",
    "outputId": "573c2a50-672c-47d8-efc9-c9009e25cb58",
    "slideshow": {
     "slide_type": "skip"
    }
   },
   "outputs": [
    {
     "data": {
      "text/plain": [
       "(0.3237818909277331, 2.360374375922593e-15)"
      ]
     },
     "execution_count": 15,
     "metadata": {},
     "output_type": "execute_result"
    }
   ],
   "source": [
    "stats.pearsonr(bcdata['radius_mean'], bcdata['texture_mean'] )"
   ]
  },
  {
   "cell_type": "code",
   "execution_count": 16,
   "metadata": {
    "colab": {
     "base_uri": "https://localhost:8080/",
     "height": 36
    },
    "colab_type": "code",
    "id": "5CCF1KkoufEh",
    "outputId": "94f6d1ff-940e-4813-f513-006963c7e41d",
    "slideshow": {
     "slide_type": "skip"
    }
   },
   "outputs": [
    {
     "data": {
      "text/plain": [
       "(0.32953305868657035, 7.041961237763314e-16)"
      ]
     },
     "execution_count": 16,
     "metadata": {},
     "output_type": "execute_result"
    }
   ],
   "source": [
    "stats.pearsonr(bcdata['perimeter_mean'], bcdata['texture_mean'])"
   ]
  },
  {
   "cell_type": "markdown",
   "metadata": {
    "colab_type": "text",
    "id": "mrgqX0pKFshT",
    "slideshow": {
     "slide_type": "slide"
    }
   },
   "source": [
    "Note the mean and standard deviation for each variable here."
   ]
  },
  {
   "cell_type": "code",
   "execution_count": 17,
   "metadata": {
    "colab": {
     "base_uri": "https://localhost:8080/",
     "height": 184
    },
    "colab_type": "code",
    "id": "HoiRtjWio3e9",
    "outputId": "24923dbd-63c9-4b90-bef9-4e94b29f3d9c",
    "slideshow": {
     "slide_type": "-"
    }
   },
   "outputs": [
    {
     "name": "stdout",
     "output_type": "stream",
     "text": [
      "radius_mean mean =  14.13\n",
      "radius_mean std  =  3.52\n"
     ]
    }
   ],
   "source": [
    "print(\"radius_mean mean = \", round(bcdata.radius_mean.mean(), 2))\n",
    "print(\"radius_mean std  = \", round(bcdata.radius_mean.std(), 2))"
   ]
  },
  {
   "cell_type": "code",
   "execution_count": 18,
   "metadata": {
    "colab": {
     "base_uri": "https://localhost:8080/",
     "height": 184
    },
    "colab_type": "code",
    "id": "HacZrzDejRVO",
    "outputId": "ca769737-f3e3-4041-9f90-52f382d137f4",
    "slideshow": {
     "slide_type": "-"
    }
   },
   "outputs": [
    {
     "name": "stdout",
     "output_type": "stream",
     "text": [
      "texture_mean mean =  19.29\n",
      "texture_mean std  =  4.3\n"
     ]
    }
   ],
   "source": [
    "print(\"texture_mean mean = \", round(bcdata.texture_mean.mean(), 2))\n",
    "print(\"texture_mean std  = \", round(bcdata.texture_mean.std(), 2))"
   ]
  },
  {
   "cell_type": "code",
   "execution_count": 19,
   "metadata": {
    "colab": {
     "base_uri": "https://localhost:8080/",
     "height": 184
    },
    "colab_type": "code",
    "id": "SujCTqoojW8u",
    "outputId": "c85f5627-b26b-4f3a-be4f-764efb02da14",
    "slideshow": {
     "slide_type": "-"
    }
   },
   "outputs": [
    {
     "name": "stdout",
     "output_type": "stream",
     "text": [
      "perimeter_mean mean =  91.97\n",
      "perimeter_mean std  =  24.3\n"
     ]
    }
   ],
   "source": [
    "print(\"perimeter_mean mean = \", round(bcdata.perimeter_mean.mean(),2))\n",
    "print(\"perimeter_mean std  = \", round(bcdata.perimeter_mean.std(),2))"
   ]
  },
  {
   "cell_type": "markdown",
   "metadata": {
    "colab_type": "text",
    "id": "zNGC_IqnGNBK",
    "slideshow": {
     "slide_type": "skip"
    }
   },
   "source": [
    "Plot the histograms for radius_mean, texture_mean and perimeter_mean. They seem to pass the eyeball test for being relatively normalized data."
   ]
  },
  {
   "cell_type": "code",
   "execution_count": 20,
   "metadata": {
    "colab": {
     "base_uri": "https://localhost:8080/",
     "height": 280
    },
    "colab_type": "code",
    "id": "POeJH3W3Kqbo",
    "outputId": "56fce07c-1c55-4c7f-a264-714b041cfaae",
    "slideshow": {
     "slide_type": "skip"
    }
   },
   "outputs": [
    {
     "data": {
      "image/png": "[encoded data removed]",
      "text/plain": [
       "<Figure size 432x288 with 1 Axes>"
      ]
     },
     "metadata": {
      "needs_background": "light"
     },
     "output_type": "display_data"
    }
   ],
   "source": [
    "ax = sns.distplot(bcdata['radius_mean'], color='magenta')"
   ]
  },
  {
   "cell_type": "code",
   "execution_count": 21,
   "metadata": {
    "colab": {
     "base_uri": "https://localhost:8080/",
     "height": 280
    },
    "colab_type": "code",
    "id": "bwNscnOGjxbf",
    "outputId": "b907c358-da1e-42e5-97af-e69c19998415",
    "slideshow": {
     "slide_type": "skip"
    }
   },
   "outputs": [
    {
     "data": {
      "image/png": "[encoded data removed]",
      "text/plain": [
       "<Figure size 432x288 with 1 Axes>"
      ]
     },
     "metadata": {
      "needs_background": "light"
     },
     "output_type": "display_data"
    }
   ],
   "source": [
    "ax = sns.distplot(bcdata['texture_mean'], color='magenta')"
   ]
  },
  {
   "cell_type": "code",
   "execution_count": 22,
   "metadata": {
    "colab": {
     "base_uri": "https://localhost:8080/",
     "height": 280
    },
    "colab_type": "code",
    "id": "cNIaaduVj5GY",
    "outputId": "055e9ffb-fa54-41a6-becb-1cd63f78f1ef",
    "slideshow": {
     "slide_type": "skip"
    }
   },
   "outputs": [
    {
     "data": {
      "image/png": "[encoded data removed]",
      "text/plain": [
       "<Figure size 432x288 with 1 Axes>"
      ]
     },
     "metadata": {
      "needs_background": "light"
     },
     "output_type": "display_data"
    }
   ],
   "source": [
    "ax = sns.distplot(bcdata['perimeter_mean'], color='magenta')"
   ]
  },
  {
   "cell_type": "markdown",
   "metadata": {
    "colab_type": "text",
    "id": "530hA3HkGnpn",
    "slideshow": {
     "slide_type": "slide"
    }
   },
   "source": [
    "A swarmplot for radius_mean. Note the considerable number of outliers. "
   ]
  },
  {
   "cell_type": "code",
   "execution_count": 23,
   "metadata": {
    "colab": {
     "base_uri": "https://localhost:8080/",
     "height": 299
    },
    "colab_type": "code",
    "id": "YrV1o9ByLT6l",
    "outputId": "76e09d54-d6f0-4514-cbc9-da52fc3aef3e",
    "slideshow": {
     "slide_type": "-"
    }
   },
   "outputs": [
    {
     "data": {
      "image/png": "[encoded data removed]",
      "text/plain": [
       "<Figure size 432x288 with 1 Axes>"
      ]
     },
     "metadata": {
      "needs_background": "light"
     },
     "output_type": "display_data"
    }
   ],
   "source": [
    "swarm = sns.swarmplot(bcdata['radius_mean'], color='magenta')"
   ]
  },
  {
   "cell_type": "code",
   "execution_count": 24,
   "metadata": {
    "colab": {
     "base_uri": "https://localhost:8080/",
     "height": 299
    },
    "colab_type": "code",
    "id": "JiTniGIHLK84",
    "outputId": "b06f9057-c0ec-4378-a040-26e547268ddd",
    "slideshow": {
     "slide_type": "skip"
    }
   },
   "outputs": [
    {
     "data": {
      "image/png": "[encoded data removed]",
      "text/plain": [
       "<Figure size 432x288 with 1 Axes>"
      ]
     },
     "metadata": {
      "needs_background": "light"
     },
     "output_type": "display_data"
    }
   ],
   "source": [
    "swarm = sns.swarmplot(bcdata['texture_mean'], color='magenta')"
   ]
  },
  {
   "cell_type": "code",
   "execution_count": 25,
   "metadata": {
    "colab": {
     "base_uri": "https://localhost:8080/",
     "height": 299
    },
    "colab_type": "code",
    "id": "9PsWp7ZKL08j",
    "outputId": "318f19ce-4226-4f38-fcc6-29d05a4fa2e3",
    "slideshow": {
     "slide_type": "skip"
    }
   },
   "outputs": [
    {
     "data": {
      "image/png": "[encoded data removed]",
      "text/plain": [
       "<Figure size 432x288 with 1 Axes>"
      ]
     },
     "metadata": {
      "needs_background": "light"
     },
     "output_type": "display_data"
    }
   ],
   "source": [
    "swarm = sns.swarmplot(bcdata['perimeter_mean'], color='magenta')"
   ]
  },
  {
   "cell_type": "markdown",
   "metadata": {
    "colab_type": "text",
    "id": "7vHyghGpHE0u",
    "slideshow": {
     "slide_type": "skip"
    }
   },
   "source": [
    "Do a shapiro test for radius_mean, texture_mean and perimeter_mean. All 3 variables return a W value close to 1. Unfortunately all three variables spectacularly fail the Shapiro test for normality because their p-values returned are all way below the 0.05 threshold. All three variables will be considered non-normal. I have decided to t-test all 3 of them anyway to see those results but not be using t-test results in the final analysis.\n",
    " "
   ]
  },
  {
   "cell_type": "code",
   "execution_count": 26,
   "metadata": {
    "colab": {
     "base_uri": "https://localhost:8080/",
     "height": 36
    },
    "colab_type": "code",
    "id": "iAiGcMz8o3fD",
    "outputId": "6576e3a6-e32f-4216-a43a-e703df48b6b4",
    "slideshow": {
     "slide_type": "skip"
    }
   },
   "outputs": [
    {
     "data": {
      "text/plain": [
       "(0.9410696029663086, 3.1061551985026026e-14)"
      ]
     },
     "execution_count": 26,
     "metadata": {},
     "output_type": "execute_result"
    }
   ],
   "source": [
    "stats.shapiro(bcdata['radius_mean'])"
   ]
  },
  {
   "cell_type": "code",
   "execution_count": 27,
   "metadata": {
    "colab": {
     "base_uri": "https://localhost:8080/",
     "height": 36
    },
    "colab_type": "code",
    "id": "41WgAfjto3fK",
    "outputId": "29e7519e-57b2-444b-fef4-4e3ec0cbe424",
    "slideshow": {
     "slide_type": "skip"
    }
   },
   "outputs": [
    {
     "data": {
      "text/plain": [
       "(0.9767200946807861, 7.281473557441132e-08)"
      ]
     },
     "execution_count": 27,
     "metadata": {},
     "output_type": "execute_result"
    }
   ],
   "source": [
    "stats.shapiro(bcdata['texture_mean'])"
   ]
  },
  {
   "cell_type": "code",
   "execution_count": 28,
   "metadata": {
    "colab": {
     "base_uri": "https://localhost:8080/",
     "height": 36
    },
    "colab_type": "code",
    "id": "YY94cUcwo3fP",
    "outputId": "5c3fb09f-9b25-4118-975d-1607b5240bba",
    "slideshow": {
     "slide_type": "skip"
    }
   },
   "outputs": [
    {
     "data": {
      "text/plain": [
       "(0.9361826181411743, 7.01163031715385e-15)"
      ]
     },
     "execution_count": 28,
     "metadata": {},
     "output_type": "execute_result"
    }
   ],
   "source": [
    "stats.shapiro(bcdata['perimeter_mean'])"
   ]
  },
  {
   "cell_type": "markdown",
   "metadata": {
    "colab_type": "text",
    "id": "AbI9ACgTJMP8",
    "slideshow": {
     "slide_type": "skip"
    }
   },
   "source": [
    "Even though radius_mean, texture_mean and perimeter_mean all failed the shapiro test. Their skew and kurtosis are all in a decent range with kurtosis being well under +/-2.5 and skew under +/- 1.5. That makes a pretty good case for normality. I suspect the outliers that were spotted in the swarmplots and will show up elsewhere here and the fact that these are fairly small datasets that the shapiro tests were failed."
   ]
  },
  {
   "cell_type": "code",
   "execution_count": 29,
   "metadata": {
    "colab": {
     "base_uri": "https://localhost:8080/",
     "height": 93
    },
    "colab_type": "code",
    "id": "hRASCvc0o3fU",
    "outputId": "28d089ba-6078-45af-a2b2-de4a2b159c31",
    "slideshow": {
     "slide_type": "skip"
    }
   },
   "outputs": [
    {
     "name": "stdout",
     "output_type": "stream",
     "text": [
      "DescribeResult(nobs=569, minmax=(6.981, 28.11), mean=14.127291739894552, variance=12.418920129526722, skewness=0.9398934455576345, kurtosis=0.8275836739140465)\n",
      "DescribeResult(nobs=569, minmax=(9.71, 39.28), mean=19.289648506151142, variance=18.49890867905146, skewness=0.6487335672867015, kurtosis=0.74114542022429)\n",
      "DescribeResult(nobs=569, minmax=(43.79, 188.5), mean=91.96903339191564, variance=590.4404795217704, skewness=0.9880369541677213, kurtosis=0.9531650486734948)\n"
     ]
    }
   ],
   "source": [
    "print(stats.describe(bcdata['radius_mean']))\n",
    "print(stats.describe(bcdata['texture_mean']))\n",
    "print(stats.describe(bcdata['perimeter_mean']))\n"
   ]
  },
  {
   "cell_type": "markdown",
   "metadata": {
    "colab_type": "text",
    "id": "NaoFfv0pKUo-",
    "slideshow": {
     "slide_type": "skip"
    }
   },
   "source": [
    "Boxplot radius_mean, texture_mean and perimeter mean and compare the data in the malignant versus benign samples. Notable here is the outliers a good distance from the means. Also in all 3 cases the means of malignant sample are significantly larger than the benign sample.\n"
   ]
  },
  {
   "cell_type": "markdown",
   "metadata": {
    "colab_type": "text",
    "id": "-oKBtXBQLCLC",
    "slideshow": {
     "slide_type": "skip"
    }
   },
   "source": [
    "Divide the data into two datasets Malignant and Benign. From here all comparisons will be between these two datasets. The AB test of this experiment will be the malignant versus the benign results. Is the malignant results for the 3 variables radius_mean, texture_mean and perimeter mean significantly different than the benign results. If they are significantly different this will point to these values being important features in determining if a sample is malignant or benign. If they are not then these values might not be useful for diagnostic purposes.  "
   ]
  },
  {
   "cell_type": "code",
   "execution_count": 30,
   "metadata": {
    "colab": {},
    "colab_type": "code",
    "id": "9QAtsbn-Q7I_",
    "slideshow": {
     "slide_type": "skip"
    }
   },
   "outputs": [],
   "source": [
    "bcdata_M = bcdata[bcdata['diagnosis']== 'M']\n",
    "\n",
    "bcdata_B = bcdata[bcdata['diagnosis']== 'B']\n"
   ]
  },
  {
   "cell_type": "markdown",
   "metadata": {
    "colab_type": "text",
    "id": "zVPrCFOsMWaD",
    "slideshow": {
     "slide_type": "skip"
    }
   },
   "source": [
    "There are 212 Malignant results and 357 Benign results."
   ]
  },
  {
   "cell_type": "code",
   "execution_count": 31,
   "metadata": {
    "colab": {
     "base_uri": "https://localhost:8080/",
     "height": 36
    },
    "colab_type": "code",
    "id": "95WKTy92F9Nm",
    "outputId": "9ccc41bd-1806-4650-8d0f-cbd8b108bca3",
    "slideshow": {
     "slide_type": "skip"
    }
   },
   "outputs": [
    {
     "data": {
      "text/plain": [
       "212"
      ]
     },
     "execution_count": 31,
     "metadata": {},
     "output_type": "execute_result"
    }
   ],
   "source": [
    "len(bcdata_M)"
   ]
  },
  {
   "cell_type": "code",
   "execution_count": 32,
   "metadata": {
    "colab": {
     "base_uri": "https://localhost:8080/",
     "height": 36
    },
    "colab_type": "code",
    "id": "LHuZG1XdGNcb",
    "outputId": "ae2cae43-1676-4a59-9438-cddfb1f0a5cc",
    "slideshow": {
     "slide_type": "skip"
    }
   },
   "outputs": [
    {
     "data": {
      "text/plain": [
       "357"
      ]
     },
     "execution_count": 32,
     "metadata": {},
     "output_type": "execute_result"
    }
   ],
   "source": [
    "len(bcdata_B)"
   ]
  },
  {
   "cell_type": "markdown",
   "metadata": {
    "colab_type": "text",
    "id": "hhOYpDozMf1W",
    "slideshow": {
     "slide_type": "skip"
    }
   },
   "source": [
    "Another peak at the malignant and benign datasets."
   ]
  },
  {
   "cell_type": "code",
   "execution_count": 33,
   "metadata": {
    "colab": {
     "base_uri": "https://localhost:8080/",
     "height": 206
    },
    "colab_type": "code",
    "id": "jCUMSwz8RQyp",
    "outputId": "9ea842e6-4931-4cec-e93e-418ef44feb5a",
    "slideshow": {
     "slide_type": "skip"
    }
   },
   "outputs": [
    {
     "data": {
      "text/html": [
       "<div>\n",
       "<style scoped>\n",
       "    .dataframe tbody tr th:only-of-type {\n",
       "        vertical-align: middle;\n",
       "    }\n",
       "\n",
       "    .dataframe tbody tr th {\n",
       "        vertical-align: top;\n",
       "    }\n",
       "\n",
       "    .dataframe thead th {\n",
       "        text-align: right;\n",
       "    }\n",
       "</style>\n",
       "<table border=\"1\" class=\"dataframe\">\n",
       "  <thead>\n",
       "    <tr style=\"text-align: right;\">\n",
       "      <th></th>\n",
       "      <th>diagnosis</th>\n",
       "      <th>radius_mean</th>\n",
       "      <th>texture_mean</th>\n",
       "      <th>perimeter_mean</th>\n",
       "    </tr>\n",
       "  </thead>\n",
       "  <tbody>\n",
       "    <tr>\n",
       "      <td>0</td>\n",
       "      <td>M</td>\n",
       "      <td>17.99</td>\n",
       "      <td>10.38</td>\n",
       "      <td>122.80</td>\n",
       "    </tr>\n",
       "    <tr>\n",
       "      <td>1</td>\n",
       "      <td>M</td>\n",
       "      <td>20.57</td>\n",
       "      <td>17.77</td>\n",
       "      <td>132.90</td>\n",
       "    </tr>\n",
       "    <tr>\n",
       "      <td>2</td>\n",
       "      <td>M</td>\n",
       "      <td>19.69</td>\n",
       "      <td>21.25</td>\n",
       "      <td>130.00</td>\n",
       "    </tr>\n",
       "    <tr>\n",
       "      <td>3</td>\n",
       "      <td>M</td>\n",
       "      <td>11.42</td>\n",
       "      <td>20.38</td>\n",
       "      <td>77.58</td>\n",
       "    </tr>\n",
       "    <tr>\n",
       "      <td>4</td>\n",
       "      <td>M</td>\n",
       "      <td>20.29</td>\n",
       "      <td>14.34</td>\n",
       "      <td>135.10</td>\n",
       "    </tr>\n",
       "  </tbody>\n",
       "</table>\n",
       "</div>"
      ],
      "text/plain": [
       "  diagnosis  radius_mean  texture_mean  perimeter_mean\n",
       "0         M        17.99         10.38          122.80\n",
       "1         M        20.57         17.77          132.90\n",
       "2         M        19.69         21.25          130.00\n",
       "3         M        11.42         20.38           77.58\n",
       "4         M        20.29         14.34          135.10"
      ]
     },
     "execution_count": 33,
     "metadata": {},
     "output_type": "execute_result"
    }
   ],
   "source": [
    "bcdata_M.head()"
   ]
  },
  {
   "cell_type": "code",
   "execution_count": 34,
   "metadata": {
    "colab": {
     "base_uri": "https://localhost:8080/",
     "height": 206
    },
    "colab_type": "code",
    "id": "XSXJjAZwRYgT",
    "outputId": "a5f8f80f-45ea-4e87-875c-09440eef9f6e",
    "slideshow": {
     "slide_type": "skip"
    }
   },
   "outputs": [
    {
     "data": {
      "text/html": [
       "<div>\n",
       "<style scoped>\n",
       "    .dataframe tbody tr th:only-of-type {\n",
       "        vertical-align: middle;\n",
       "    }\n",
       "\n",
       "    .dataframe tbody tr th {\n",
       "        vertical-align: top;\n",
       "    }\n",
       "\n",
       "    .dataframe thead th {\n",
       "        text-align: right;\n",
       "    }\n",
       "</style>\n",
       "<table border=\"1\" class=\"dataframe\">\n",
       "  <thead>\n",
       "    <tr style=\"text-align: right;\">\n",
       "      <th></th>\n",
       "      <th>diagnosis</th>\n",
       "      <th>radius_mean</th>\n",
       "      <th>texture_mean</th>\n",
       "      <th>perimeter_mean</th>\n",
       "    </tr>\n",
       "  </thead>\n",
       "  <tbody>\n",
       "    <tr>\n",
       "      <td>19</td>\n",
       "      <td>B</td>\n",
       "      <td>13.540</td>\n",
       "      <td>14.36</td>\n",
       "      <td>87.46</td>\n",
       "    </tr>\n",
       "    <tr>\n",
       "      <td>20</td>\n",
       "      <td>B</td>\n",
       "      <td>13.080</td>\n",
       "      <td>15.71</td>\n",
       "      <td>85.63</td>\n",
       "    </tr>\n",
       "    <tr>\n",
       "      <td>21</td>\n",
       "      <td>B</td>\n",
       "      <td>9.504</td>\n",
       "      <td>12.44</td>\n",
       "      <td>60.34</td>\n",
       "    </tr>\n",
       "    <tr>\n",
       "      <td>37</td>\n",
       "      <td>B</td>\n",
       "      <td>13.030</td>\n",
       "      <td>18.42</td>\n",
       "      <td>82.61</td>\n",
       "    </tr>\n",
       "    <tr>\n",
       "      <td>46</td>\n",
       "      <td>B</td>\n",
       "      <td>8.196</td>\n",
       "      <td>16.84</td>\n",
       "      <td>51.71</td>\n",
       "    </tr>\n",
       "  </tbody>\n",
       "</table>\n",
       "</div>"
      ],
      "text/plain": [
       "   diagnosis  radius_mean  texture_mean  perimeter_mean\n",
       "19         B       13.540         14.36           87.46\n",
       "20         B       13.080         15.71           85.63\n",
       "21         B        9.504         12.44           60.34\n",
       "37         B       13.030         18.42           82.61\n",
       "46         B        8.196         16.84           51.71"
      ]
     },
     "execution_count": 34,
     "metadata": {},
     "output_type": "execute_result"
    }
   ],
   "source": [
    "bcdata_B.head()"
   ]
  },
  {
   "cell_type": "markdown",
   "metadata": {
    "colab_type": "text",
    "id": "SuR4fl-zM-7M",
    "slideshow": {
     "slide_type": "slide"
    }
   },
   "source": [
    "Histograms for Benign (Blue) Vs Maligant (Orange) radius_mean."
   ]
  },
  {
   "cell_type": "code",
   "execution_count": 35,
   "metadata": {
    "colab": {
     "base_uri": "https://localhost:8080/",
     "height": 280
    },
    "colab_type": "code",
    "id": "e4wGc2r5ajXs",
    "outputId": "3221f5f0-14cc-4ae2-81f3-0b41511b44dc",
    "slideshow": {
     "slide_type": "-"
    }
   },
   "outputs": [
    {
     "data": {
      "image/png": "[encoded data removed]",
      "text/plain": [
       "<Figure size 432x288 with 1 Axes>"
      ]
     },
     "metadata": {
      "needs_background": "light"
     },
     "output_type": "display_data"
    }
   ],
   "source": [
    "ax = plt.hist(bcdata_B['radius_mean'], alpha = .5)\n",
    "ax = plt.hist(bcdata_M['radius_mean'], alpha = .5)\n",
    "plt.show()"
   ]
  },
  {
   "cell_type": "code",
   "execution_count": 36,
   "metadata": {
    "slideshow": {
     "slide_type": "-"
    }
   },
   "outputs": [
    {
     "name": "stdout",
     "output_type": "stream",
     "text": [
      "Benign radius_mean mean and std =  12.1 : 1.8\n",
      "Malignant radius_mean mean and std =  17.5 : 3.2\n"
     ]
    }
   ],
   "source": [
    "print(\"Benign radius_mean mean and std = \", \n",
    "      round(bcdata_B.radius_mean.mean(), 1), \":\", \n",
    "      round(bcdata_B.radius_mean.std(), 1)) \n",
    "\n",
    "print(\"Malignant radius_mean mean and std = \", \n",
    "      round(bcdata_M.radius_mean.mean(), 1), \":\", \n",
    "      round(bcdata_M.radius_mean.std(), 1)) "
   ]
  },
  {
   "cell_type": "code",
   "execution_count": 37,
   "metadata": {
    "colab": {
     "base_uri": "https://localhost:8080/",
     "height": 439
    },
    "colab_type": "code",
    "id": "1N9ohP_0-9OD",
    "outputId": "e086972e-918c-4e0c-de55-61088c7aec6f",
    "scrolled": false,
    "slideshow": {
     "slide_type": "slide"
    }
   },
   "outputs": [
    {
     "data": {
      "image/png": "[encoded data removed]",
      "text/plain": [
       "<Figure size 576x360 with 1 Axes>"
      ]
     },
     "metadata": {
      "needs_background": "light"
     },
     "output_type": "display_data"
    }
   ],
   "source": [
    "box = bcdata.boxplot('radius_mean', by='diagnosis', figsize=(8, 5))"
   ]
  },
  {
   "cell_type": "code",
   "execution_count": 38,
   "metadata": {
    "slideshow": {
     "slide_type": "-"
    }
   },
   "outputs": [
    {
     "name": "stdout",
     "output_type": "stream",
     "text": [
      "Benign radius_mean mean and std =  12.1 : 1.8\n",
      "Malignant radius_mean mean and std =  17.5 : 3.2\n"
     ]
    }
   ],
   "source": [
    "print(\"Benign radius_mean mean and std = \", \n",
    "      round(bcdata_B.radius_mean.mean(), 1), \":\", \n",
    "      round(bcdata_B.radius_mean.std(), 1)) \n",
    "\n",
    "print(\"Malignant radius_mean mean and std = \", \n",
    "      round(bcdata_M.radius_mean.mean(), 1), \":\", \n",
    "      round(bcdata_M.radius_mean.std(), 1)) "
   ]
  },
  {
   "cell_type": "code",
   "execution_count": 39,
   "metadata": {
    "colab": {
     "base_uri": "https://localhost:8080/",
     "height": 280
    },
    "colab_type": "code",
    "id": "wyJNcLZhAyWn",
    "outputId": "ca884b8d-b4d7-450d-de3d-97a9011bffd1",
    "slideshow": {
     "slide_type": "skip"
    }
   },
   "outputs": [
    {
     "data": {
      "image/png": "[encoded data removed]",
      "text/plain": [
       "<Figure size 432x288 with 1 Axes>"
      ]
     },
     "metadata": {
      "needs_background": "light"
     },
     "output_type": "display_data"
    }
   ],
   "source": [
    "ax = sns.distplot(bcdata_B['radius_mean'], color='magenta')"
   ]
  },
  {
   "cell_type": "markdown",
   "metadata": {
    "slideshow": {
     "slide_type": "slide"
    }
   },
   "source": [
    "Histograms for Benign Vs Maligant texture_mean."
   ]
  },
  {
   "cell_type": "code",
   "execution_count": 40,
   "metadata": {
    "colab": {
     "base_uri": "https://localhost:8080/",
     "height": 280
    },
    "colab_type": "code",
    "id": "qQZStYvJJ9Dc",
    "outputId": "8d7954a8-d572-48a2-b200-47a3589c65e4",
    "slideshow": {
     "slide_type": "-"
    }
   },
   "outputs": [
    {
     "data": {
      "image/png": "[encoded data removed]",
      "text/plain": [
       "<Figure size 432x288 with 1 Axes>"
      ]
     },
     "metadata": {
      "needs_background": "light"
     },
     "output_type": "display_data"
    }
   ],
   "source": [
    "#ax = sns.distplot(bcdata_M['texture_mean'], color='magenta')\n",
    "\n",
    "ax = plt.hist(bcdata_B['texture_mean'], alpha = .5)\n",
    "ax = plt.hist(bcdata_M['texture_mean'], alpha = .5)\n",
    "plt.show()"
   ]
  },
  {
   "cell_type": "code",
   "execution_count": 41,
   "metadata": {
    "slideshow": {
     "slide_type": "-"
    }
   },
   "outputs": [
    {
     "name": "stdout",
     "output_type": "stream",
     "text": [
      "Benign texture_mean mean and std =  17.9 : 4.0\n",
      "Malignant texture_mean mean and std =  21.6 : 3.8\n"
     ]
    }
   ],
   "source": [
    "print(\"Benign texture_mean mean and std = \", \n",
    "      round(bcdata_B.texture_mean.mean(), 1), \":\", \n",
    "      round(bcdata_B.texture_mean.std(), 1)) \n",
    "\n",
    "print(\"Malignant texture_mean mean and std = \", \n",
    "      round(bcdata_M.texture_mean.mean(), 1), \":\", \n",
    "      round(bcdata_M.texture_mean.std(), 1)) "
   ]
  },
  {
   "cell_type": "code",
   "execution_count": 42,
   "metadata": {
    "colab": {
     "base_uri": "https://localhost:8080/",
     "height": 439
    },
    "colab_type": "code",
    "id": "14J7akUx_nnu",
    "outputId": "69858caa-486b-4d97-99db-827f0b3c11af",
    "scrolled": true,
    "slideshow": {
     "slide_type": "slide"
    }
   },
   "outputs": [
    {
     "data": {
      "image/png": "[encoded data removed]",
      "text/plain": [
       "<Figure size 576x360 with 1 Axes>"
      ]
     },
     "metadata": {
      "needs_background": "light"
     },
     "output_type": "display_data"
    }
   ],
   "source": [
    "box = bcdata.boxplot('texture_mean', by='diagnosis', figsize=(8, 5))"
   ]
  },
  {
   "cell_type": "code",
   "execution_count": 43,
   "metadata": {
    "slideshow": {
     "slide_type": "-"
    }
   },
   "outputs": [
    {
     "name": "stdout",
     "output_type": "stream",
     "text": [
      "Benign texture_mean mean and std =  17.9 : 4.0\n",
      "Malignant texture_mean mean and std =  21.6 : 3.8\n"
     ]
    }
   ],
   "source": [
    "print(\"Benign texture_mean mean and std = \", \n",
    "      round(bcdata_B.texture_mean.mean(), 1), \":\", \n",
    "      round(bcdata_B.texture_mean.std(), 1)) \n",
    "\n",
    "print(\"Malignant texture_mean mean and std = \", \n",
    "      round(bcdata_M.texture_mean.mean(), 1), \":\", \n",
    "      round(bcdata_M.texture_mean.std(), 1)) "
   ]
  },
  {
   "cell_type": "code",
   "execution_count": 44,
   "metadata": {
    "colab": {
     "base_uri": "https://localhost:8080/",
     "height": 283
    },
    "colab_type": "code",
    "id": "V7hDZ992bB0Y",
    "outputId": "6daead3f-0d5c-4bbb-f8c3-b346d8146dce",
    "slideshow": {
     "slide_type": "skip"
    }
   },
   "outputs": [
    {
     "data": {
      "image/png": "[encoded data removed]",
      "text/plain": [
       "<Figure size 432x288 with 1 Axes>"
      ]
     },
     "metadata": {
      "needs_background": "light"
     },
     "output_type": "display_data"
    }
   ],
   "source": [
    "ax = sns.distplot(bcdata_B['texture_mean'], color='magenta')"
   ]
  },
  {
   "cell_type": "markdown",
   "metadata": {
    "slideshow": {
     "slide_type": "slide"
    }
   },
   "source": [
    "Histograms for Benign Vs Maligant perimeter_mean."
   ]
  },
  {
   "cell_type": "code",
   "execution_count": 45,
   "metadata": {
    "colab": {
     "base_uri": "https://localhost:8080/",
     "height": 280
    },
    "colab_type": "code",
    "id": "82c7FuO_t3LG",
    "outputId": "c65a5e40-de2d-4002-ae21-cf27d0da7abd",
    "slideshow": {
     "slide_type": "-"
    }
   },
   "outputs": [
    {
     "data": {
      "image/png": "[encoded data removed]",
      "text/plain": [
       "<Figure size 432x288 with 1 Axes>"
      ]
     },
     "metadata": {
      "needs_background": "light"
     },
     "output_type": "display_data"
    }
   ],
   "source": [
    "#ax = sns.distplot(bcdata_M['perimeter_mean'], color='magenta')\n",
    "\n",
    "ax = plt.hist(bcdata_B['perimeter_mean'], alpha = .5)\n",
    "ax = plt.hist(bcdata_M['perimeter_mean'], alpha = .5)\n",
    "plt.show()"
   ]
  },
  {
   "cell_type": "code",
   "execution_count": 46,
   "metadata": {},
   "outputs": [
    {
     "name": "stdout",
     "output_type": "stream",
     "text": [
      "Benign perimeter_mean mean and std =  78.1 : 11.8\n",
      "Malignant perimeter_mean mean and std =  115.4 : 21.9\n"
     ]
    }
   ],
   "source": [
    "print(\"Benign perimeter_mean mean and std = \", \n",
    "      round(bcdata_B.perimeter_mean.mean(), 1), \":\", \n",
    "      round(bcdata_B.perimeter_mean.std(), 1)) \n",
    "\n",
    "print(\"Malignant perimeter_mean mean and std = \", \n",
    "      round(bcdata_M.perimeter_mean.mean(), 1), \":\", \n",
    "      round(bcdata_M.perimeter_mean.std(), 1)) "
   ]
  },
  {
   "cell_type": "code",
   "execution_count": 47,
   "metadata": {
    "colab": {
     "base_uri": "https://localhost:8080/",
     "height": 439
    },
    "colab_type": "code",
    "id": "oS0nPzeO_zW4",
    "outputId": "5dfd8672-e8d3-414f-a654-2b6ffb75ceca",
    "scrolled": true,
    "slideshow": {
     "slide_type": "slide"
    }
   },
   "outputs": [
    {
     "data": {
      "image/png": "[encoded data removed]",
      "text/plain": [
       "<Figure size 576x360 with 1 Axes>"
      ]
     },
     "metadata": {
      "needs_background": "light"
     },
     "output_type": "display_data"
    }
   ],
   "source": [
    "box = bcdata.boxplot('perimeter_mean', by='diagnosis', figsize=(8, 5))"
   ]
  },
  {
   "cell_type": "code",
   "execution_count": 48,
   "metadata": {},
   "outputs": [
    {
     "name": "stdout",
     "output_type": "stream",
     "text": [
      "Benign perimeter_mean mean and std =  78.1 : 11.8\n",
      "Malignant perimeter_mean mean and std =  115.4 : 21.9\n"
     ]
    }
   ],
   "source": [
    "print(\"Benign perimeter_mean mean and std = \", \n",
    "      round(bcdata_B.perimeter_mean.mean(), 1), \":\", \n",
    "      round(bcdata_B.perimeter_mean.std(), 1)) \n",
    "\n",
    "print(\"Malignant perimeter_mean mean and std = \", \n",
    "      round(bcdata_M.perimeter_mean.mean(), 1), \":\", \n",
    "      round(bcdata_M.perimeter_mean.std(), 1)) "
   ]
  },
  {
   "cell_type": "code",
   "execution_count": 49,
   "metadata": {
    "colab": {
     "base_uri": "https://localhost:8080/",
     "height": 280
    },
    "colab_type": "code",
    "id": "KSlDYdvvt3YL",
    "outputId": "6061115d-2c5b-4890-c148-e509f8cf1c54",
    "slideshow": {
     "slide_type": "skip"
    }
   },
   "outputs": [
    {
     "data": {
      "image/png": "[encoded data removed]",
      "text/plain": [
       "<Figure size 432x288 with 1 Axes>"
      ]
     },
     "metadata": {
      "needs_background": "light"
     },
     "output_type": "display_data"
    }
   ],
   "source": [
    "ax = sns.distplot(bcdata_B['perimeter_mean'], color='magenta')"
   ]
  },
  {
   "cell_type": "markdown",
   "metadata": {
    "colab_type": "text",
    "id": "1kNrMYcLNkD9",
    "slideshow": {
     "slide_type": "skip"
    }
   },
   "source": [
    "Six swarmplots show that all three variables and the malignant and benign datasets all have outliers a noticeable distance from the mean."
   ]
  },
  {
   "cell_type": "code",
   "execution_count": 50,
   "metadata": {
    "colab": {
     "base_uri": "https://localhost:8080/",
     "height": 299
    },
    "colab_type": "code",
    "id": "U7wVVv35MJ9Q",
    "outputId": "c246ee2e-5cd2-486f-aeab-01ea65357a92",
    "scrolled": true,
    "slideshow": {
     "slide_type": "skip"
    }
   },
   "outputs": [
    {
     "data": {
      "text/plain": [
       "<matplotlib.axes._subplots.AxesSubplot at 0x21fe4ffa308>"
      ]
     },
     "execution_count": 50,
     "metadata": {},
     "output_type": "execute_result"
    },
    {
     "data": {
      "image/png": "[encoded data removed]",
      "text/plain": [
       "<Figure size 432x288 with 1 Axes>"
      ]
     },
     "metadata": {
      "needs_background": "light"
     },
     "output_type": "display_data"
    }
   ],
   "source": [
    "sns.swarmplot(bcdata_M['radius_mean'], color='magenta')"
   ]
  },
  {
   "cell_type": "code",
   "execution_count": 51,
   "metadata": {
    "colab": {
     "base_uri": "https://localhost:8080/",
     "height": 299
    },
    "colab_type": "code",
    "id": "PKOjBhCJMaOv",
    "outputId": "ed8f27d2-5342-4ead-ef0f-6926dd555a60",
    "slideshow": {
     "slide_type": "skip"
    }
   },
   "outputs": [
    {
     "data": {
      "text/plain": [
       "<matplotlib.axes._subplots.AxesSubplot at 0x21fe504e808>"
      ]
     },
     "execution_count": 51,
     "metadata": {},
     "output_type": "execute_result"
    },
    {
     "data": {
      "image/png": "[encoded data removed]",
      "text/plain": [
       "<Figure size 432x288 with 1 Axes>"
      ]
     },
     "metadata": {
      "needs_background": "light"
     },
     "output_type": "display_data"
    }
   ],
   "source": [
    "sns.swarmplot(bcdata_B['radius_mean'], color='magenta')"
   ]
  },
  {
   "cell_type": "code",
   "execution_count": 52,
   "metadata": {
    "colab": {
     "base_uri": "https://localhost:8080/",
     "height": 299
    },
    "colab_type": "code",
    "id": "rvjQL5TiOAdk",
    "outputId": "a55b9f2e-00d3-4bb4-ef97-b960513ea4b7",
    "slideshow": {
     "slide_type": "skip"
    }
   },
   "outputs": [
    {
     "data": {
      "text/plain": [
       "<matplotlib.axes._subplots.AxesSubplot at 0x21fe50a45c8>"
      ]
     },
     "execution_count": 52,
     "metadata": {},
     "output_type": "execute_result"
    },
    {
     "data": {
      "image/png": "[encoded data removed]",
      "text/plain": [
       "<Figure size 432x288 with 1 Axes>"
      ]
     },
     "metadata": {
      "needs_background": "light"
     },
     "output_type": "display_data"
    }
   ],
   "source": [
    "sns.swarmplot(bcdata_M['texture_mean'], color='magenta')"
   ]
  },
  {
   "cell_type": "code",
   "execution_count": 53,
   "metadata": {
    "colab": {
     "base_uri": "https://localhost:8080/",
     "height": 299
    },
    "colab_type": "code",
    "id": "hUPislDJOItS",
    "outputId": "322dd866-8f4b-4dd9-9adc-04df1535f7ed",
    "slideshow": {
     "slide_type": "skip"
    }
   },
   "outputs": [
    {
     "data": {
      "text/plain": [
       "<matplotlib.axes._subplots.AxesSubplot at 0x21fe13b8b88>"
      ]
     },
     "execution_count": 53,
     "metadata": {},
     "output_type": "execute_result"
    },
    {
     "data": {
      "image/png": "[encoded data removed]",
      "text/plain": [
       "<Figure size 432x288 with 1 Axes>"
      ]
     },
     "metadata": {
      "needs_background": "light"
     },
     "output_type": "display_data"
    }
   ],
   "source": [
    "sns.swarmplot(bcdata_B['texture_mean'], color='magenta')"
   ]
  },
  {
   "cell_type": "code",
   "execution_count": 54,
   "metadata": {
    "colab": {
     "base_uri": "https://localhost:8080/",
     "height": 299
    },
    "colab_type": "code",
    "id": "fWbeS3PRumHB",
    "outputId": "5bb31fa7-5e26-4f8d-c7c5-924b28be5727",
    "slideshow": {
     "slide_type": "skip"
    }
   },
   "outputs": [
    {
     "data": {
      "text/plain": [
       "<matplotlib.axes._subplots.AxesSubplot at 0x21fe4e8f0c8>"
      ]
     },
     "execution_count": 54,
     "metadata": {},
     "output_type": "execute_result"
    },
    {
     "data": {
      "image/png": "[encoded data removed]",
      "text/plain": [
       "<Figure size 432x288 with 1 Axes>"
      ]
     },
     "metadata": {
      "needs_background": "light"
     },
     "output_type": "display_data"
    }
   ],
   "source": [
    "sns.swarmplot(bcdata_M['perimeter_mean'], color='magenta')"
   ]
  },
  {
   "cell_type": "code",
   "execution_count": 55,
   "metadata": {
    "colab": {
     "base_uri": "https://localhost:8080/",
     "height": 299
    },
    "colab_type": "code",
    "id": "h6x-DqlxumfB",
    "outputId": "7091a67c-d80b-4cac-e6b3-60b516b63572",
    "slideshow": {
     "slide_type": "skip"
    }
   },
   "outputs": [
    {
     "data": {
      "text/plain": [
       "<matplotlib.axes._subplots.AxesSubplot at 0x21fe4b3e108>"
      ]
     },
     "execution_count": 55,
     "metadata": {},
     "output_type": "execute_result"
    },
    {
     "data": {
      "image/png": "[encoded data removed]",
      "text/plain": [
       "<Figure size 432x288 with 1 Axes>"
      ]
     },
     "metadata": {
      "needs_background": "light"
     },
     "output_type": "display_data"
    }
   ],
   "source": [
    "sns.swarmplot(bcdata_B['perimeter_mean'], color='magenta')"
   ]
  },
  {
   "cell_type": "markdown",
   "metadata": {
    "colab_type": "text",
    "id": "wD2pebuYOCj_",
    "slideshow": {
     "slide_type": "skip"
    }
   },
   "source": [
    "Again describe the data for all three variables in the 2 samples. The skew and kurtosis are all within range. The kurtosis for texture_mean in the malignant dataset is getting very close to out of range with a value of 2.29. But skew and kurtosis all indicate normalized data for both malignant and benign samples."
   ]
  },
  {
   "cell_type": "code",
   "execution_count": 56,
   "metadata": {
    "colab": {
     "base_uri": "https://localhost:8080/",
     "height": 93
    },
    "colab_type": "code",
    "id": "ScMcC-ThRrGO",
    "outputId": "c3bbf738-acb6-49d9-99d8-12c4c0ec991a",
    "slideshow": {
     "slide_type": "skip"
    }
   },
   "outputs": [
    {
     "name": "stdout",
     "output_type": "stream",
     "text": [
      "DescribeResult(nobs=212, minmax=(10.95, 28.11), mean=17.462830188679245, variance=10.26543081462935, skewness=0.4983438269401485, kurtosis=0.33744620499587263)\n",
      "DescribeResult(nobs=212, minmax=(10.38, 39.28), mean=21.60490566037736, variance=14.284392882053115, skewness=0.6985549130264693, kurtosis=2.2951980794284896)\n",
      "DescribeResult(nobs=212, minmax=(71.9, 188.5), mean=115.36537735849056, variance=477.6258704730394, skewness=0.6006419795948119, kurtosis=0.5492077385280698)\n"
     ]
    }
   ],
   "source": [
    "print(stats.describe(bcdata_M['radius_mean']))\n",
    "print(stats.describe(bcdata_M['texture_mean']))\n",
    "print(stats.describe(bcdata_M['perimeter_mean']))\n"
   ]
  },
  {
   "cell_type": "code",
   "execution_count": 57,
   "metadata": {
    "colab": {
     "base_uri": "https://localhost:8080/",
     "height": 93
    },
    "colab_type": "code",
    "id": "2rsfXac1R6lX",
    "outputId": "decc452c-739d-4a99-fe18-87834d3b6342",
    "slideshow": {
     "slide_type": "skip"
    }
   },
   "outputs": [
    {
     "name": "stdout",
     "output_type": "stream",
     "text": [
      "DescribeResult(nobs=357, minmax=(6.981, 17.85), mean=12.146523809523808, variance=3.1702217220438738, skewness=-0.08344660198964896, kurtosis=-0.028871551594101152)\n",
      "DescribeResult(nobs=357, minmax=(9.71, 33.81), mean=17.914761904761903, variance=15.961020518994113, skewness=0.9772157090288104, kurtosis=1.1858758625694934)\n",
      "DescribeResult(nobs=357, minmax=(43.79, 114.6), mean=78.075406162465, variance=139.41558220816415, skewness=-0.06441193810264673, kurtosis=-0.03299354965402257)\n"
     ]
    }
   ],
   "source": [
    "print(stats.describe(bcdata_B['radius_mean']))\n",
    "print(stats.describe(bcdata_B['texture_mean']))\n",
    "print(stats.describe(bcdata_B['perimeter_mean']))\n"
   ]
  },
  {
   "cell_type": "markdown",
   "metadata": {
    "colab_type": "text",
    "id": "zP3jCG0NOsNQ",
    "slideshow": {
     "slide_type": "skip"
    }
   },
   "source": [
    "Here I test all three variables to the 2 datasets. In this case the malignant data all fail the shapiro test but the benign data pass the shapiro test easily. This is interesting. What is it about the malignant data that causes it to fail the normality test? "
   ]
  },
  {
   "cell_type": "markdown",
   "metadata": {
    "colab_type": "text",
    "id": "RuVB9PEpxVQp",
    "slideshow": {
     "slide_type": "skip"
    }
   },
   "source": [
    "Below I tested the number of unique values of each variable we are testing. There is some repeated values, but I do not think there are so many to severely throw off normality tests.\n"
   ]
  },
  {
   "cell_type": "code",
   "execution_count": 58,
   "metadata": {
    "colab": {
     "base_uri": "https://localhost:8080/",
     "height": 91
    },
    "colab_type": "code",
    "id": "avtUk-wafXN4",
    "outputId": "81edf867-9839-4a64-ff07-38e2d77d3cf6",
    "slideshow": {
     "slide_type": "skip"
    }
   },
   "outputs": [
    {
     "name": "stdout",
     "output_type": "stream",
     "text": [
      "212\n",
      "196\n",
      "199\n",
      "191\n"
     ]
    }
   ],
   "source": [
    "print(len(bcdata_M))\n",
    "print(bcdata_M.radius_mean.nunique())\n",
    "print(bcdata_M.texture_mean.nunique())\n",
    "print(bcdata_M.perimeter_mean.nunique())"
   ]
  },
  {
   "cell_type": "code",
   "execution_count": 59,
   "metadata": {
    "colab": {
     "base_uri": "https://localhost:8080/",
     "height": 91
    },
    "colab_type": "code",
    "id": "pOTtBLT8gk_T",
    "outputId": "19c52005-f6fa-4518-c77f-c5ffe6366c77",
    "slideshow": {
     "slide_type": "skip"
    }
   },
   "outputs": [
    {
     "name": "stdout",
     "output_type": "stream",
     "text": [
      "357\n",
      "284\n",
      "311\n",
      "338\n"
     ]
    }
   ],
   "source": [
    "print(len(bcdata_B))\n",
    "print(bcdata_B.radius_mean.nunique())\n",
    "print(bcdata_B.texture_mean.nunique())\n",
    "print(bcdata_B.perimeter_mean.nunique())"
   ]
  },
  {
   "cell_type": "code",
   "execution_count": 60,
   "metadata": {
    "colab": {
     "base_uri": "https://localhost:8080/",
     "height": 36
    },
    "colab_type": "code",
    "id": "GmE-BOuRTNK9",
    "outputId": "f9227aaa-818d-4540-f6bb-36e03f35e18c",
    "slideshow": {
     "slide_type": "skip"
    }
   },
   "outputs": [
    {
     "data": {
      "text/plain": [
       "(0.9776597619056702, 0.0018945835763588548)"
      ]
     },
     "execution_count": 60,
     "metadata": {},
     "output_type": "execute_result"
    }
   ],
   "source": [
    "stats.shapiro(bcdata_M['radius_mean'])"
   ]
  },
  {
   "cell_type": "code",
   "execution_count": 61,
   "metadata": {
    "colab": {
     "base_uri": "https://localhost:8080/",
     "height": 36
    },
    "colab_type": "code",
    "id": "5aicXEmGTtNf",
    "outputId": "64614da1-f3e1-4b52-cfec-1d3e5ef548ff",
    "slideshow": {
     "slide_type": "skip"
    }
   },
   "outputs": [
    {
     "data": {
      "text/plain": [
       "(0.9690946340560913, 0.00013415660941973329)"
      ]
     },
     "execution_count": 61,
     "metadata": {},
     "output_type": "execute_result"
    }
   ],
   "source": [
    "stats.shapiro(bcdata_M['texture_mean'])"
   ]
  },
  {
   "cell_type": "code",
   "execution_count": 62,
   "metadata": {
    "colab": {
     "base_uri": "https://localhost:8080/",
     "height": 36
    },
    "colab_type": "code",
    "id": "lSfm1a4XTw3t",
    "outputId": "35531a6e-72ea-4190-8ec8-9a943de6361d",
    "slideshow": {
     "slide_type": "skip"
    }
   },
   "outputs": [
    {
     "data": {
      "text/plain": [
       "(0.9730151891708374, 0.00043255911441519856)"
      ]
     },
     "execution_count": 62,
     "metadata": {},
     "output_type": "execute_result"
    }
   ],
   "source": [
    "stats.shapiro(bcdata_M['perimeter_mean'])"
   ]
  },
  {
   "cell_type": "code",
   "execution_count": 63,
   "metadata": {
    "colab": {
     "base_uri": "https://localhost:8080/",
     "height": 36
    },
    "colab_type": "code",
    "id": "mICHqX16T0UE",
    "outputId": "c6fbcbed-852d-4bc5-960e-f6191835eb97",
    "slideshow": {
     "slide_type": "skip"
    }
   },
   "outputs": [
    {
     "data": {
      "text/plain": [
       "(0.9966526031494141, 0.6678557395935059)"
      ]
     },
     "execution_count": 63,
     "metadata": {},
     "output_type": "execute_result"
    }
   ],
   "source": [
    "stats.shapiro(bcdata_B['radius_mean'])"
   ]
  },
  {
   "cell_type": "code",
   "execution_count": 64,
   "metadata": {
    "colab": {
     "base_uri": "https://localhost:8080/",
     "height": 36
    },
    "colab_type": "code",
    "id": "L-OsjXwET0rb",
    "outputId": "71f55685-ccf9-485f-a1c4-021a6cf6f4eb",
    "slideshow": {
     "slide_type": "skip"
    }
   },
   "outputs": [
    {
     "data": {
      "text/plain": [
       "(0.9441728591918945, 2.384618336126465e-10)"
      ]
     },
     "execution_count": 64,
     "metadata": {},
     "output_type": "execute_result"
    }
   ],
   "source": [
    "stats.shapiro(bcdata_B['texture_mean'])"
   ]
  },
  {
   "cell_type": "code",
   "execution_count": 65,
   "metadata": {
    "colab": {
     "base_uri": "https://localhost:8080/",
     "height": 36
    },
    "colab_type": "code",
    "id": "vzyxkW3tT1B0",
    "outputId": "0d456714-9aba-4c9e-a2f4-9a5562be204e",
    "slideshow": {
     "slide_type": "skip"
    }
   },
   "outputs": [
    {
     "data": {
      "text/plain": [
       "(0.9970958232879639, 0.7793931365013123)"
      ]
     },
     "execution_count": 65,
     "metadata": {},
     "output_type": "execute_result"
    }
   ],
   "source": [
    "stats.shapiro(bcdata_B['perimeter_mean'])"
   ]
  },
  {
   "cell_type": "markdown",
   "metadata": {
    "colab_type": "text",
    "id": "K7-SCstIPNQF",
    "slideshow": {
     "slide_type": "skip"
    }
   },
   "source": [
    "Below I test the 3 variables and two datasets for outliers by making a top ten list of zscores for results that reside far from the mean. Across the 3 variables and both malignant and benign data there are significant outliers everywhere. But yet the malignant data failed the shapiro test.\n"
   ]
  },
  {
   "cell_type": "code",
   "execution_count": 66,
   "metadata": {
    "colab": {},
    "colab_type": "code",
    "id": "HPklwkvm5-Pf",
    "slideshow": {
     "slide_type": "skip"
    }
   },
   "outputs": [],
   "source": [
    "def print_top5bot5(zlist):\n",
    "  zlist.sort()\n",
    "  zlist.size\n",
    "  print(zlist[0:5])\n",
    "  print(zlist[-5:-1]) \n",
    "  print(zlist[-1])"
   ]
  },
  {
   "cell_type": "code",
   "execution_count": 67,
   "metadata": {
    "colab": {
     "base_uri": "https://localhost:8080/",
     "height": 73
    },
    "colab_type": "code",
    "id": "_nXP-TfgxuUk",
    "outputId": "42efa1cc-303b-4ab7-812d-5ec4500b2790",
    "slideshow": {
     "slide_type": "skip"
    }
   },
   "outputs": [
    {
     "name": "stdout",
     "output_type": "stream",
     "text": [
      "[-2.03754809 -1.99687741 -1.89050793 -1.78413845 -1.77162439]\n",
      "[2.42684149 2.58639571 3.0525443  3.11511459]\n",
      "3.330982057202953\n"
     ]
    }
   ],
   "source": [
    "print_top5bot5(stats.zscore(bcdata_M['radius_mean']))"
   ]
  },
  {
   "cell_type": "code",
   "execution_count": 68,
   "metadata": {
    "colab": {
     "base_uri": "https://localhost:8080/",
     "height": 73
    },
    "colab_type": "code",
    "id": "PGVYr18r4jvR",
    "outputId": "2500f6ce-ac46-4729-cb81-5b97d4dd2ad0",
    "slideshow": {
     "slide_type": "skip"
    }
   },
   "outputs": [
    {
     "name": "stdout",
     "output_type": "stream",
     "text": [
      "[-2.90521754 -2.50589609 -2.48452396 -2.4670888  -2.22187168]\n",
      "[2.26290189 2.33601709 2.44850201 2.63972636]\n",
      "3.20777518398041\n"
     ]
    }
   ],
   "source": [
    "print_top5bot5(stats.zscore(bcdata_B['radius_mean']))"
   ]
  },
  {
   "cell_type": "code",
   "execution_count": 69,
   "metadata": {
    "colab": {
     "base_uri": "https://localhost:8080/",
     "height": 73
    },
    "colab_type": "code",
    "id": "7SuFq5bDxw3J",
    "outputId": "6e1c4115-424a-4716-f0cd-0ee837f443aa",
    "slideshow": {
     "slide_type": "skip"
    }
   },
   "outputs": [
    {
     "name": "stdout",
     "output_type": "stream",
     "text": [
      "[-2.97699777 -2.57652522 -1.94796896 -1.92675187 -1.7384502 ]\n",
      "[2.39092573 2.52353253 2.88157091 3.17065375]\n",
      "4.687675603281357\n"
     ]
    }
   ],
   "source": [
    "print_top5bot5(stats.zscore(bcdata_M['texture_mean']))"
   ]
  },
  {
   "cell_type": "code",
   "execution_count": 70,
   "metadata": {
    "colab": {
     "base_uri": "https://localhost:8080/",
     "height": 73
    },
    "colab_type": "code",
    "id": "06YXs8FE4U7c",
    "outputId": "92ae99d9-8fba-42f5-9e8d-3a5b6efbe92a",
    "slideshow": {
     "slide_type": "skip"
    }
   },
   "outputs": [
    {
     "name": "stdout",
     "output_type": "stream",
     "text": [
      "[-2.056576   -1.80341305 -1.77834741 -1.76080146 -1.75578833]\n",
      "[2.87132863 2.88636801 3.02172247 3.20971476]\n",
      "3.984243003963385\n"
     ]
    }
   ],
   "source": [
    "print_top5bot5(stats.zscore(bcdata_B['texture_mean']))"
   ]
  },
  {
   "cell_type": "code",
   "execution_count": 71,
   "metadata": {
    "colab": {
     "base_uri": "https://localhost:8080/",
     "height": 73
    },
    "colab_type": "code",
    "id": "mtCYzbgZxxGN",
    "outputId": "3a46ca8a-49aa-4c4c-d456-85a54530a35e",
    "slideshow": {
     "slide_type": "skip"
    }
   },
   "outputs": [
    {
     "name": "stdout",
     "output_type": "stream",
     "text": [
      "[-1.99354588 -1.92933468 -1.85136393 -1.73303185 -1.71697905]\n",
      "[2.57462267 2.69845857 3.06079322 3.28094592]\n",
      "3.3543301559559904\n"
     ]
    }
   ],
   "source": [
    "print_top5bot5(stats.zscore(bcdata_M['perimeter_mean']))"
   ]
  },
  {
   "cell_type": "code",
   "execution_count": 72,
   "metadata": {
    "colab": {
     "base_uri": "https://localhost:8080/",
     "height": 73
    },
    "colab_type": "code",
    "id": "iOdL28fH4-YF",
    "outputId": "c6f81569-102c-4743-befb-066ab30582fe",
    "scrolled": true,
    "slideshow": {
     "slide_type": "skip"
    }
   },
   "outputs": [
    {
     "name": "stdout",
     "output_type": "stream",
     "text": [
      "[-2.90778806 -2.55751761 -2.55242894 -2.52189689 -2.23608298]\n",
      "[2.25806501 2.39376301 2.41920638 2.57186663]\n",
      "3.0976963631991823\n"
     ]
    }
   ],
   "source": [
    "print_top5bot5(stats.zscore(bcdata_B['perimeter_mean']))"
   ]
  },
  {
   "cell_type": "markdown",
   "metadata": {
    "colab_type": "text",
    "id": "UqzP8JtTP2TI",
    "slideshow": {
     "slide_type": "slide"
    }
   },
   "source": [
    "Making the assumption that the distribution of radius_mean is normalized I ttest radius_mean of the Malignant dataset versus the Benign dataset. It returns a very low p-value and rejects the Null handily."
   ]
  },
  {
   "cell_type": "code",
   "execution_count": 73,
   "metadata": {
    "colab": {
     "base_uri": "https://localhost:8080/",
     "height": 36
    },
    "colab_type": "code",
    "id": "HCabDizro3fZ",
    "outputId": "956742f9-c181-42e9-953f-65b0a89bb928",
    "slideshow": {
     "slide_type": "-"
    }
   },
   "outputs": [
    {
     "data": {
      "text/plain": [
       "Ttest_indResult(statistic=25.435821610057054, pvalue=8.465940572262422e-96)"
      ]
     },
     "execution_count": 73,
     "metadata": {},
     "output_type": "execute_result"
    }
   ],
   "source": [
    "stats.ttest_ind(bcdata_M['radius_mean'], bcdata_B['radius_mean'])\n"
   ]
  },
  {
   "cell_type": "markdown",
   "metadata": {
    "slideshow": {
     "slide_type": "slide"
    }
   },
   "source": [
    "Just in case radius_mean is not normal and the ttest is meaningless then I kruskal test radius_mean and it also rejects the NULL handily."
   ]
  },
  {
   "cell_type": "code",
   "execution_count": 74,
   "metadata": {
    "colab": {
     "base_uri": "https://localhost:8080/",
     "height": 36
    },
    "colab_type": "code",
    "id": "MsQAraEzrD0k",
    "outputId": "7f0e205d-218e-4dd3-8f05-8e35dcef9aeb",
    "slideshow": {
     "slide_type": "-"
    }
   },
   "outputs": [
    {
     "data": {
      "text/plain": [
       "KruskalResult(statistic=305.00114169591234, pvalue=2.680528928198788e-68)"
      ]
     },
     "execution_count": 74,
     "metadata": {},
     "output_type": "execute_result"
    }
   ],
   "source": [
    "stats.kruskal(bcdata_M['radius_mean'], bcdata_B['radius_mean'])"
   ]
  },
  {
   "cell_type": "code",
   "execution_count": 75,
   "metadata": {
    "colab": {
     "base_uri": "https://localhost:8080/",
     "height": 54
    },
    "colab_type": "code",
    "id": "cpR3NnJKrd7N",
    "outputId": "307dabc0-ad9a-42f0-e9cf-53b76a574db0",
    "slideshow": {
     "slide_type": "skip"
    }
   },
   "outputs": [
    {
     "data": {
      "text/plain": [
       "(236.52797526117857, 2.247938676287646e-53, 13.37, array([[195,  89],\n",
       "        [ 17, 268]], dtype=int64))"
      ]
     },
     "execution_count": 75,
     "metadata": {},
     "output_type": "execute_result"
    }
   ],
   "source": [
    "stats.median_test(bcdata_M['radius_mean'], bcdata_B['radius_mean'])\n"
   ]
  },
  {
   "cell_type": "code",
   "execution_count": 76,
   "metadata": {
    "colab": {
     "base_uri": "https://localhost:8080/",
     "height": 36
    },
    "colab_type": "code",
    "id": "B5kLUh-orrXe",
    "outputId": "2b30db6b-db54-42d3-c0e1-7f09ab29a433",
    "slideshow": {
     "slide_type": "skip"
    }
   },
   "outputs": [
    {
     "data": {
      "text/plain": [
       "MannwhitneyuResult(statistic=4729.0, pvalue=1.3464713863982824e-68)"
      ]
     },
     "execution_count": 76,
     "metadata": {},
     "output_type": "execute_result"
    }
   ],
   "source": [
    "stats.mannwhitneyu(bcdata_M['radius_mean'], bcdata_B['radius_mean'])"
   ]
  },
  {
   "cell_type": "markdown",
   "metadata": {
    "colab_type": "text",
    "id": "9TpKQRN_Qlui",
    "slideshow": {
     "slide_type": "skip"
    }
   },
   "source": [
    "Here texture_mean fails to reject the NULL for all 4 tests."
   ]
  },
  {
   "cell_type": "markdown",
   "metadata": {
    "slideshow": {
     "slide_type": "slide"
    }
   },
   "source": [
    "Here I ttest texture_mean Benign VS Malignant. It passes."
   ]
  },
  {
   "cell_type": "code",
   "execution_count": 77,
   "metadata": {
    "colab": {
     "base_uri": "https://localhost:8080/",
     "height": 36
    },
    "colab_type": "code",
    "id": "P-cF25wySdgU",
    "outputId": "673400aa-2061-4398-b5aa-df3de4bc8fde",
    "slideshow": {
     "slide_type": "-"
    }
   },
   "outputs": [
    {
     "data": {
      "text/plain": [
       "Ttest_indResult(statistic=10.86720108146434, pvalue=4.0586360478980736e-25)"
      ]
     },
     "execution_count": 77,
     "metadata": {},
     "output_type": "execute_result"
    }
   ],
   "source": [
    "stats.ttest_ind(bcdata_M['texture_mean'], bcdata_B['texture_mean'])\n"
   ]
  },
  {
   "cell_type": "markdown",
   "metadata": {
    "slideshow": {
     "slide_type": "-"
    }
   },
   "source": [
    "Here texture_mean also passes kruskal test."
   ]
  },
  {
   "cell_type": "code",
   "execution_count": 78,
   "metadata": {
    "colab": {
     "base_uri": "https://localhost:8080/",
     "height": 36
    },
    "colab_type": "code",
    "id": "e51WJKOKSsDJ",
    "outputId": "239f2d97-bf60-47e7-aa52-89f975c47107",
    "slideshow": {
     "slide_type": "-"
    }
   },
   "outputs": [
    {
     "data": {
      "text/plain": [
       "KruskalResult(statistic=121.22093055992241, pvalue=3.418605714119009e-28)"
      ]
     },
     "execution_count": 78,
     "metadata": {},
     "output_type": "execute_result"
    }
   ],
   "source": [
    "stats.kruskal(bcdata_M['texture_mean'], bcdata_B['texture_mean'])\n"
   ]
  },
  {
   "cell_type": "code",
   "execution_count": 79,
   "metadata": {
    "colab": {
     "base_uri": "https://localhost:8080/",
     "height": 54
    },
    "colab_type": "code",
    "id": "CdMy5ImxSpXm",
    "outputId": "7e45a422-47c2-45d7-a5a1-ba5de1c4cf71",
    "slideshow": {
     "slide_type": "skip"
    }
   },
   "outputs": [
    {
     "data": {
      "text/plain": [
       "(107.13187769388985, 4.165102795584876e-25, 18.84, array([[166, 118],\n",
       "        [ 46, 239]], dtype=int64))"
      ]
     },
     "execution_count": 79,
     "metadata": {},
     "output_type": "execute_result"
    }
   ],
   "source": [
    "stats.median_test(bcdata_M['texture_mean'], bcdata_B['texture_mean'])\n"
   ]
  },
  {
   "cell_type": "code",
   "execution_count": 80,
   "metadata": {
    "colab": {
     "base_uri": "https://localhost:8080/",
     "height": 36
    },
    "colab_type": "code",
    "id": "0b8c-GGSGruP",
    "outputId": "6d4bd2f5-c1b9-4ac0-83cd-2971dc95a024",
    "slideshow": {
     "slide_type": "skip"
    }
   },
   "outputs": [
    {
     "data": {
      "text/plain": [
       "MannwhitneyuResult(statistic=16966.5, pvalue=1.7143132523721134e-28)"
      ]
     },
     "execution_count": 80,
     "metadata": {},
     "output_type": "execute_result"
    }
   ],
   "source": [
    "stats.mannwhitneyu(bcdata_M['texture_mean'], bcdata_B['texture_mean'])"
   ]
  },
  {
   "cell_type": "markdown",
   "metadata": {
    "colab_type": "text",
    "id": "yqFHT1PaQ3aj",
    "slideshow": {
     "slide_type": "skip"
    }
   },
   "source": [
    "And perimeter_mean fails to reject the NULL."
   ]
  },
  {
   "cell_type": "markdown",
   "metadata": {
    "slideshow": {
     "slide_type": "slide"
    }
   },
   "source": [
    "Here I ttest perimeter_mean Benign VS Malignant. It passes."
   ]
  },
  {
   "cell_type": "code",
   "execution_count": 81,
   "metadata": {
    "colab": {
     "base_uri": "https://localhost:8080/",
     "height": 36
    },
    "colab_type": "code",
    "id": "BTDcN1lzVT7A",
    "outputId": "01fa71c6-3a65-4b21-933f-bf9541bc3365",
    "slideshow": {
     "slide_type": "-"
    }
   },
   "outputs": [
    {
     "data": {
      "text/plain": [
       "Ttest_indResult(statistic=26.405212979192665, pvalue=8.43625103617473e-101)"
      ]
     },
     "execution_count": 81,
     "metadata": {},
     "output_type": "execute_result"
    }
   ],
   "source": [
    "stats.ttest_ind(bcdata_M['perimeter_mean'], bcdata_B['perimeter_mean'])"
   ]
  },
  {
   "cell_type": "markdown",
   "metadata": {
    "slideshow": {
     "slide_type": "-"
    }
   },
   "source": [
    "Here perimeter_mean Benign VS Malignant passes Kruskal."
   ]
  },
  {
   "cell_type": "code",
   "execution_count": 82,
   "metadata": {
    "colab": {
     "base_uri": "https://localhost:8080/",
     "height": 36
    },
    "colab_type": "code",
    "id": "iVioohxdc7Zx",
    "outputId": "eadb5863-310e-456b-b88d-1f38375e9b4b",
    "slideshow": {
     "slide_type": "-"
    }
   },
   "outputs": [
    {
     "data": {
      "text/plain": [
       "KruskalResult(statistic=318.21988483157037, pvalue=3.537139549987364e-71)"
      ]
     },
     "execution_count": 82,
     "metadata": {},
     "output_type": "execute_result"
    }
   ],
   "source": [
    "stats.kruskal(bcdata_M['perimeter_mean'], bcdata_B['perimeter_mean'])\n"
   ]
  },
  {
   "cell_type": "code",
   "execution_count": 83,
   "metadata": {
    "colab": {
     "base_uri": "https://localhost:8080/",
     "height": 54
    },
    "colab_type": "code",
    "id": "U0id11Gpc7q6",
    "outputId": "69373039-2930-40e3-ba9b-7476b0bc8a9b",
    "slideshow": {
     "slide_type": "skip"
    }
   },
   "outputs": [
    {
     "data": {
      "text/plain": [
       "(241.89208463622737, 1.5210841058376233e-54, 86.24, array([[196,  88],\n",
       "        [ 16, 269]], dtype=int64))"
      ]
     },
     "execution_count": 83,
     "metadata": {},
     "output_type": "execute_result"
    }
   ],
   "source": [
    "stats.median_test(bcdata_M['perimeter_mean'], bcdata_B['perimeter_mean'])\n"
   ]
  },
  {
   "cell_type": "code",
   "execution_count": 84,
   "metadata": {
    "colab": {
     "base_uri": "https://localhost:8080/",
     "height": 36
    },
    "colab_type": "code",
    "id": "LPGltGVVc724",
    "outputId": "53a9d73b-0b1a-414c-9103-07ef2c49aa2b",
    "slideshow": {
     "slide_type": "skip"
    }
   },
   "outputs": [
    {
     "data": {
      "text/plain": [
       "MannwhitneyuResult(statistic=4019.0, pvalue=1.7769351129819374e-71)"
      ]
     },
     "execution_count": 84,
     "metadata": {},
     "output_type": "execute_result"
    }
   ],
   "source": [
    "stats.mannwhitneyu(bcdata_M['perimeter_mean'], bcdata_B['perimeter_mean'])"
   ]
  },
  {
   "cell_type": "markdown",
   "metadata": {
    "colab_type": "text",
    "id": "-nX0lYl1RCcl",
    "slideshow": {
     "slide_type": "skip"
    }
   },
   "source": [
    "Just being curious I run one way anova on all 3 variables."
   ]
  },
  {
   "cell_type": "code",
   "execution_count": 85,
   "metadata": {
    "colab": {
     "base_uri": "https://localhost:8080/",
     "height": 36
    },
    "colab_type": "code",
    "id": "uP5_BxP89SYt",
    "outputId": "51b927f7-a294-43c0-9bc9-d17cc0028395",
    "slideshow": {
     "slide_type": "skip"
    }
   },
   "outputs": [
    {
     "name": "stdout",
     "output_type": "stream",
     "text": [
      "For radius_mean: \n"
     ]
    },
    {
     "data": {
      "text/plain": [
       "F_onewayResult(statistic=646.9810209786452, pvalue=8.46594057226382e-96)"
      ]
     },
     "execution_count": 85,
     "metadata": {},
     "output_type": "execute_result"
    }
   ],
   "source": [
    "print(\"For radius_mean: \")\n",
    "stats.f_oneway(bcdata_M['radius_mean'], bcdata_B['radius_mean'])"
   ]
  },
  {
   "cell_type": "code",
   "execution_count": 86,
   "metadata": {
    "colab": {
     "base_uri": "https://localhost:8080/",
     "height": 36
    },
    "colab_type": "code",
    "id": "shHzsxZ1AfLQ",
    "outputId": "adcf0c0c-61cd-40be-9f3c-9e68dba2571a",
    "slideshow": {
     "slide_type": "skip"
    }
   },
   "outputs": [
    {
     "name": "stdout",
     "output_type": "stream",
     "text": [
      "For texture_mean: \n"
     ]
    },
    {
     "data": {
      "text/plain": [
       "F_onewayResult(statistic=118.09605934497965, pvalue=4.0586360478986136e-25)"
      ]
     },
     "execution_count": 86,
     "metadata": {},
     "output_type": "execute_result"
    }
   ],
   "source": [
    "print(\"For texture_mean: \")\n",
    "stats.f_oneway(bcdata_M['texture_mean'], bcdata_B['texture_mean'])"
   ]
  },
  {
   "cell_type": "code",
   "execution_count": 87,
   "metadata": {
    "colab": {
     "base_uri": "https://localhost:8080/",
     "height": 36
    },
    "colab_type": "code",
    "id": "hFT4vlqSAqa8",
    "outputId": "1ce2baba-45c0-4ff9-e40f-f0e1f05cbf05",
    "slideshow": {
     "slide_type": "skip"
    }
   },
   "outputs": [
    {
     "name": "stdout",
     "output_type": "stream",
     "text": [
      "For perimeter_mean: \n"
     ]
    },
    {
     "data": {
      "text/plain": [
       "F_onewayResult(statistic=697.2352724765257, pvalue=8.43625103617395e-101)"
      ]
     },
     "execution_count": 87,
     "metadata": {},
     "output_type": "execute_result"
    }
   ],
   "source": [
    "print(\"For perimeter_mean: \")\n",
    "stats.f_oneway(bcdata_M['perimeter_mean'], bcdata_B['perimeter_mean'])"
   ]
  },
  {
   "cell_type": "code",
   "execution_count": 88,
   "metadata": {
    "colab": {},
    "colab_type": "code",
    "id": "w67nACAvNfSh",
    "slideshow": {
     "slide_type": "skip"
    }
   },
   "outputs": [],
   "source": [
    "def get_95_ci(array_1, array_2):\n",
    "    sample_1_n = array_1.shape[0]\n",
    "    sample_2_n = array_2.shape[0]\n",
    "    sample_1_mean = array_1.mean()\n",
    "    sample_2_mean = array_2.mean()\n",
    "    sample_1_var = array_1.var()\n",
    "    sample_2_var = array_2.var()\n",
    "    mean_difference = sample_2_mean - sample_1_mean\n",
    "    std_err_difference = math.sqrt((sample_1_var/sample_1_n)+(sample_2_var/sample_2_n))\n",
    "    margin_of_error = 1.96 * std_err_difference\n",
    "    ci_lower = round(mean_difference - margin_of_error, 2)\n",
    "    ci_upper = round(mean_difference + margin_of_error, 2)\n",
    "    return(\"The difference in means at the 95% confidence interval (two-tail)\" \n",
    "               +\"\\n\" +\"is between \" +str(ci_lower)+\" and \"+str(ci_upper)+\".\")\n",
    "\n"
   ]
  },
  {
   "cell_type": "markdown",
   "metadata": {
    "colab_type": "text",
    "id": "byFYeA0DSQBx",
    "slideshow": {
     "slide_type": "skip"
    }
   },
   "source": [
    "I run a 95% confidence interval on all three variables. \n",
    "The standard deviation for the radius_mean for the entire data was 3.5 and the difference between malignant and benign is 130% to 160% of the std. That is definitely a significant difference. \n",
    "Texture_mean is 85% to 100% difference of the standard deviation. Perimeter_mean is %140 to %166 of the original standard deviation as well. This was noticeable in the boxplot and comparing the histogram  plots of the malignant and benign datasets.\n",
    "\n",
    "The standard deviation of the entire data was 3.5, 4.3 and 91.9 respectively for those 3 variables.\n",
    "\n"
   ]
  },
  {
   "cell_type": "code",
   "execution_count": 101,
   "metadata": {
    "colab": {
     "base_uri": "https://localhost:8080/",
     "height": 56
    },
    "colab_type": "code",
    "id": "5xUs2geXNmxP",
    "outputId": "bd52e810-7f84-4baf-b131-aef004dcad9e",
    "slideshow": {
     "slide_type": "slide"
    }
   },
   "outputs": [
    {
     "name": "stdout",
     "output_type": "stream",
     "text": [
      "For radius_mean: \n",
      "The difference in means at the 95% confidence interval (two-tail)\n",
      "is between 4.85 and 5.79.\n",
      "Total sample radius_mean mean and std =  14.13 : 3.52\n"
     ]
    }
   ],
   "source": [
    "print(\"For radius_mean: \")\n",
    "print(get_95_ci(bcdata_B['radius_mean'], bcdata_M['radius_mean']));\n",
    "print(\"Total sample radius_mean mean and std = \", \n",
    "      round(bcdata.radius_mean.mean(), 2), \":\", \n",
    "      round(bcdata.radius_mean.std(), 2)) "
   ]
  },
  {
   "cell_type": "code",
   "execution_count": 102,
   "metadata": {
    "colab": {
     "base_uri": "https://localhost:8080/",
     "height": 56
    },
    "colab_type": "code",
    "id": "pB_G0N21QPHC",
    "outputId": "61d4fc71-3cf5-4162-c274-7371c3d0c76b",
    "slideshow": {
     "slide_type": "-"
    }
   },
   "outputs": [
    {
     "name": "stdout",
     "output_type": "stream",
     "text": [
      "For texture_mean: \n",
      "The difference in means at the 95% confidence interval (two-tail)\n",
      "is between 3.03 and 4.35.\n",
      "Total sample texture_mean mean and std =  19.29 : 4.3\n"
     ]
    }
   ],
   "source": [
    "print(\"For texture_mean: \")\n",
    "print(get_95_ci(bcdata_B['texture_mean'], bcdata_M['texture_mean']));\n",
    "print(\"Total sample texture_mean mean and std = \", \n",
    "      round(bcdata.texture_mean.mean(), 2), \":\", \n",
    "      round(bcdata.texture_mean.std(), 2)) "
   ]
  },
  {
   "cell_type": "code",
   "execution_count": 103,
   "metadata": {
    "colab": {
     "base_uri": "https://localhost:8080/",
     "height": 56
    },
    "colab_type": "code",
    "id": "e0YeeEMiQvdw",
    "outputId": "a08abdc6-2a57-4973-d110-cdbbcfbfacc5",
    "slideshow": {
     "slide_type": "-"
    }
   },
   "outputs": [
    {
     "name": "stdout",
     "output_type": "stream",
     "text": [
      "For perimeter_mean: \n",
      "The difference in means at the 95% confidence interval (two-tail)\n",
      "is between 34.1 and 40.48.\n",
      "Total sample perimeter_mean mean and std =  91.97 : 24.3\n"
     ]
    }
   ],
   "source": [
    "print(\"For perimeter_mean: \")\n",
    "print(get_95_ci(bcdata_B['perimeter_mean'], bcdata_M['perimeter_mean']));\n",
    "print(\"Total sample perimeter_mean mean and std = \", \n",
    "      round(bcdata.perimeter_mean.mean(), 2), \":\", \n",
    "      round(bcdata.perimeter_mean.std(), 2)) "
   ]
  },
  {
   "cell_type": "markdown",
   "metadata": {
    "colab_type": "text",
    "id": "JnlBrtOfWCDV",
    "slideshow": {
     "slide_type": "skip"
    }
   },
   "source": [
    "Last thing is to run a pointplot to show visually there is a significant difference between the malignant and benign data sets for radius_mean, texture_mean, and perimeter_mean. The values are higher in the malignant dataset for all three values. "
   ]
  },
  {
   "cell_type": "code",
   "execution_count": 92,
   "metadata": {
    "colab": {
     "base_uri": "https://localhost:8080/",
     "height": 265
    },
    "colab_type": "code",
    "id": "j8lqukVqU46T",
    "outputId": "e581e20d-797d-46a9-b602-269e8cc9839d",
    "slideshow": {
     "slide_type": "slide"
    }
   },
   "outputs": [
    {
     "data": {
      "image/png": "[encoded data removed]",
      "text/plain": [
       "<Figure size 432x288 with 1 Axes>"
      ]
     },
     "metadata": {
      "needs_background": "light"
     },
     "output_type": "display_data"
    }
   ],
   "source": [
    "g = sns.pointplot(data=[bcdata_B['radius_mean'], bcdata_M['radius_mean']], \n",
    "                  join=False, color='magenta')                        \n",
    "ticks = g.set(xticklabels = ['Benign Radius', 'Malignant Radius'])\n",
    "plt.show()"
   ]
  },
  {
   "cell_type": "code",
   "execution_count": 93,
   "metadata": {
    "slideshow": {
     "slide_type": "-"
    }
   },
   "outputs": [
    {
     "name": "stdout",
     "output_type": "stream",
     "text": [
      "Benign radius_mean mean and std =  12.1 : 1.8\n",
      "Malignant radius_mean mean and std =  17.5 : 3.2\n"
     ]
    }
   ],
   "source": [
    "print(\"Benign radius_mean mean and std = \", \n",
    "      round(bcdata_B.radius_mean.mean(), 1), \":\", \n",
    "      round(bcdata_B.radius_mean.std(), 1)) \n",
    "\n",
    "print(\"Malignant radius_mean mean and std = \", \n",
    "      round(bcdata_M.radius_mean.mean(), 1), \":\", \n",
    "      round(bcdata_M.radius_mean.std(), 1)) "
   ]
  },
  {
   "cell_type": "code",
   "execution_count": 94,
   "metadata": {
    "colab": {
     "base_uri": "https://localhost:8080/",
     "height": 265
    },
    "colab_type": "code",
    "id": "XauTNHx8Yh-W",
    "outputId": "428de2bc-70b1-4f54-a0dd-e83f469e3d7e",
    "slideshow": {
     "slide_type": "slide"
    }
   },
   "outputs": [
    {
     "data": {
      "image/png": "[encoded data removed]",
      "text/plain": [
       "<Figure size 432x288 with 1 Axes>"
      ]
     },
     "metadata": {
      "needs_background": "light"
     },
     "output_type": "display_data"
    }
   ],
   "source": [
    "g = sns.pointplot(data=[bcdata_B['texture_mean'], bcdata_M['texture_mean']], \n",
    "                  join=False, color='magenta')              \n",
    "ticks = g.set(xticklabels = ['Benign Texture', 'Malignant Texture'])\n",
    "plt.show()"
   ]
  },
  {
   "cell_type": "code",
   "execution_count": 95,
   "metadata": {
    "slideshow": {
     "slide_type": "-"
    }
   },
   "outputs": [
    {
     "name": "stdout",
     "output_type": "stream",
     "text": [
      "Benign texture_mean mean and std =  17.9 : 4.0\n",
      "Malignant texture_mean mean and std =  21.6 : 3.8\n"
     ]
    }
   ],
   "source": [
    "print(\"Benign texture_mean mean and std = \", \n",
    "      round(bcdata_B.texture_mean.mean(), 1), \":\", \n",
    "      round(bcdata_B.texture_mean.std(), 1)) \n",
    "\n",
    "print(\"Malignant texture_mean mean and std = \", \n",
    "      round(bcdata_M.texture_mean.mean(), 1), \":\", \n",
    "      round(bcdata_M.texture_mean.std(), 1)) "
   ]
  },
  {
   "cell_type": "code",
   "execution_count": 96,
   "metadata": {
    "colab": {
     "base_uri": "https://localhost:8080/",
     "height": 267
    },
    "colab_type": "code",
    "id": "sMOW-ESWY6SD",
    "outputId": "8b5edab4-6898-4d7f-d68d-2553e462d3f8",
    "scrolled": true,
    "slideshow": {
     "slide_type": "slide"
    }
   },
   "outputs": [
    {
     "data": {
      "image/png": "[encoded data removed]",
      "text/plain": [
       "<Figure size 432x288 with 1 Axes>"
      ]
     },
     "metadata": {
      "needs_background": "light"
     },
     "output_type": "display_data"
    }
   ],
   "source": [
    "g = sns.pointplot(data=[ bcdata_B['perimeter_mean'], bcdata_M['perimeter_mean']], \n",
    "                  join=False, color='magenta')              \n",
    "ticks = g.set(xticklabels = ['Benign Perimeter', 'Malignant Perimeter'])\n",
    "plt.show()"
   ]
  },
  {
   "cell_type": "code",
   "execution_count": 97,
   "metadata": {
    "slideshow": {
     "slide_type": "-"
    }
   },
   "outputs": [
    {
     "name": "stdout",
     "output_type": "stream",
     "text": [
      "Benign perimeter_mean mean and std =  78.1 : 11.8\n",
      "Malignant perimeter_mean mean and std =  115.4 : 21.9\n"
     ]
    }
   ],
   "source": [
    "print(\"Benign perimeter_mean mean and std = \", \n",
    "      round(bcdata_B.perimeter_mean.mean(), 1), \":\", \n",
    "      round(bcdata_B.perimeter_mean.std(), 1)) \n",
    "\n",
    "print(\"Malignant perimeter_mean mean and std = \", \n",
    "      round(bcdata_M.perimeter_mean.mean(), 1), \":\", \n",
    "      round(bcdata_M.perimeter_mean.std(), 1)) "
   ]
  },
  {
   "cell_type": "markdown",
   "metadata": {
    "slideshow": {
     "slide_type": "slide"
    }
   },
   "source": [
    "<h2 align=\"center\">Benign VS Malignant FNA Samples</h2> <img src=\"https://raw.githubusercontent.com/brianfarrelly/data/master/SMEAR.png\">\n"
   ]
  },
  {
   "cell_type": "markdown",
   "metadata": {
    "slideshow": {
     "slide_type": "slide"
    }
   },
   "source": [
    "<h2 align=\"center\"> </h2> <img src=https://scontent-ort2-1.xx.fbcdn.net/v/t1.0-9/83470873_10156929336593061_3922600176966959104_o.jpg?_nc_cat=103&_nc_ohc=R8gnAB7eoDgAX8H36Wx&_nc_ht=scontent-ort2-1.xx&oh=38df41544f707f15f62031f925eaad47&oe=5ED8E05A\">"
   ]
  },
  {
   "cell_type": "markdown",
   "metadata": {
    "slideshow": {
     "slide_type": "skip"
    }
   },
   "source": [
    "<h2 align=\"center\">Measurement Variables</h2> <img src=\"https://raw.githubusercontent.com/brianfarrelly/data/master/measure.png\">\n"
   ]
  },
  {
   "cell_type": "markdown",
   "metadata": {
    "slideshow": {
     "slide_type": "skip"
    }
   },
   "source": [
    "<h2 align=\"center\">Concavity VS Compactness</h2> <img src=\"https://raw.githubusercontent.com/brianfarrelly/data/master/concave.png\">\n"
   ]
  },
  {
   "cell_type": "markdown",
   "metadata": {
    "slideshow": {
     "slide_type": "skip"
    }
   },
   "source": [
    "<h2 align=\"center\">Texture VS Smoothness</h2> <img src=\"https://raw.githubusercontent.com/brianfarrelly/data/master/smooth.png\">\n"
   ]
  },
  {
   "cell_type": "markdown",
   "metadata": {
    "slideshow": {
     "slide_type": "skip"
    }
   },
   "source": [
    "<h2 align=\"center\">Symmetry VS Fractals</h2> <img src=\"https://raw.githubusercontent.com/brianfarrelly/data/master/symmetry.png\">\n"
   ]
  },
  {
   "cell_type": "markdown",
   "metadata": {
    "colab_type": "text",
    "id": "O5R18U2OWoh3",
    "slideshow": {
     "slide_type": "notes"
    }
   },
   "source": [
    "Summary:\n",
    "\n",
    "The conclusion of these results is that for radius_mean, texture_mean and perimeter_mean the values for all three would be larger in a malignant sample of breast cancer cells collected from a FNA needle biopsy. There are 28 other variables just in this data provided and those would also need to be analyzed to understand these results. \n",
    "\n",
    "The data assembled for this project may have been assembled specifically for machine learning testing. It just happened to fit the purposes for an AB test for this project. \n",
    "\n",
    "The other issue is the size of the dataset. It may be quite large for these sorts for medical testing studies. It may be that medical studies just have to deal with smaller and thus non-normal datasets and being able to work with these problems is the nature of the problem.\n",
    "\n",
    "If I could collect more data for this project I would like to have data from other states besides Wisconsin. Also the data was collected in 1995 so it is 25 years old. The instruments used to create this data are probably much better than what was used back then. If the images are digitized, I am sure the images collected today are much higher resolution. Also since 1995 there is been a lot of work with genetic testing. It would be nice to see what genetic testing data collected from needle biopsy could or would be included from cell samples taken today. And before the needle biopsy CT scans and MRI scans of the patient to show the entire tumor and perhaps other tumors in the same area would be even more data to consider. Size of the overall tumor was not considered here but would be signicant information to add to the overall picture and improve the diagnostic process. \n"
   ]
  }
 ],
 "metadata": {
  "celltoolbar": "Slideshow",
  "colab": {
   "collapsed_sections": [],
   "name": "present_cap1.ipynb",
   "provenance": []
  },
  "kernelspec": {
   "display_name": "Python 3",
   "language": "python",
   "name": "python3"
  },
  "language_info": {
   "codemirror_mode": {
    "name": "ipython",
    "version": 3
   },
   "file_extension": ".py",
   "mimetype": "text/x-python",
   "name": "python",
   "nbconvert_exporter": "python",
   "pygments_lexer": "ipython3",
   "version": "3.7.4"
  }
 },
 "nbformat": 4,
 "nbformat_minor": 1
}
